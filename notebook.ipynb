{
  "cells": [
    {
      "cell_type": "markdown",
      "metadata": {
        "id": "H9wADwK78DCz"
      },
      "source": [
        "# Proyek Analisis Data: [E-Commerce Public Dataset]\n",
        "- **Nama:** [Muhammad Faiz Fahri]\n",
        "- **Email:** [bluemlkyfaiz@gmail.com]\n",
        "- **ID Dicoding:** [faizfahri]"
      ]
    },
    {
      "cell_type": "markdown",
      "metadata": {
        "id": "eE0raob58DC0"
      },
      "source": [
        "## Menentukan Pertanyaan Bisnis"
      ]
    },
    {
      "cell_type": "markdown",
      "metadata": {
        "id": "GmQeQ5YF8DC0"
      },
      "source": [
        "- Bagaimana distribusi jumlah pelanggan dan penjual berdasarkan provinsi di Brasil?\n",
        "- Bagaimana rata-rata harga produk berdasarkan kategori?"
      ]
    },
    {
      "cell_type": "markdown",
      "metadata": {
        "id": "H-z4QGlO8DC1"
      },
      "source": [
        "## Import Semua Packages/Library yang Digunakan"
      ]
    },
    {
      "cell_type": "code",
      "execution_count": 4,
      "metadata": {
        "id": "FVYwaObI8DC1"
      },
      "outputs": [],
      "source": [
        "import pandas as pd\n",
        "import seaborn as sns\n",
        "import matplotlib.pyplot as plt"
      ]
    },
    {
      "cell_type": "markdown",
      "metadata": {
        "id": "h_Sh51Xy8DC1"
      },
      "source": [
        "## Data Wrangling"
      ]
    },
    {
      "cell_type": "markdown",
      "metadata": {},
      "source": [
        "Berdasarkan pertanyaan bisnis yang diajukan diatas, data yang akan dipakai adalah:\n",
        "- customers_dataset.csv, sellers_dataset.csv, dan geolocation_dataset.csv untuk pertanyaan pertama\n",
        "- products_dataset.csv, order_items_dataset.csv untuk pertanyaan kedua"
      ]
    },
    {
      "cell_type": "markdown",
      "metadata": {},
      "source": [
        "### Gathering dan Assessing Data"
      ]
    },
    {
      "cell_type": "markdown",
      "metadata": {},
      "source": [
        "#### customers_dataset.csv"
      ]
    },
    {
      "cell_type": "markdown",
      "metadata": {},
      "source": [
        "- Memuat data"
      ]
    },
    {
      "cell_type": "code",
      "execution_count": 5,
      "metadata": {},
      "outputs": [
        {
          "data": {
            "text/html": [
              "<div>\n",
              "<style scoped>\n",
              "    .dataframe tbody tr th:only-of-type {\n",
              "        vertical-align: middle;\n",
              "    }\n",
              "\n",
              "    .dataframe tbody tr th {\n",
              "        vertical-align: top;\n",
              "    }\n",
              "\n",
              "    .dataframe thead th {\n",
              "        text-align: right;\n",
              "    }\n",
              "</style>\n",
              "<table border=\"1\" class=\"dataframe\">\n",
              "  <thead>\n",
              "    <tr style=\"text-align: right;\">\n",
              "      <th></th>\n",
              "      <th>customer_id</th>\n",
              "      <th>customer_unique_id</th>\n",
              "      <th>customer_zip_code_prefix</th>\n",
              "      <th>customer_city</th>\n",
              "      <th>customer_state</th>\n",
              "    </tr>\n",
              "  </thead>\n",
              "  <tbody>\n",
              "    <tr>\n",
              "      <th>0</th>\n",
              "      <td>06b8999e2fba1a1fbc88172c00ba8bc7</td>\n",
              "      <td>861eff4711a542e4b93843c6dd7febb0</td>\n",
              "      <td>14409</td>\n",
              "      <td>franca</td>\n",
              "      <td>SP</td>\n",
              "    </tr>\n",
              "    <tr>\n",
              "      <th>1</th>\n",
              "      <td>18955e83d337fd6b2def6b18a428ac77</td>\n",
              "      <td>290c77bc529b7ac935b93aa66c333dc3</td>\n",
              "      <td>9790</td>\n",
              "      <td>sao bernardo do campo</td>\n",
              "      <td>SP</td>\n",
              "    </tr>\n",
              "    <tr>\n",
              "      <th>2</th>\n",
              "      <td>4e7b3e00288586ebd08712fdd0374a03</td>\n",
              "      <td>060e732b5b29e8181a18229c7b0b2b5e</td>\n",
              "      <td>1151</td>\n",
              "      <td>sao paulo</td>\n",
              "      <td>SP</td>\n",
              "    </tr>\n",
              "    <tr>\n",
              "      <th>3</th>\n",
              "      <td>b2b6027bc5c5109e529d4dc6358b12c3</td>\n",
              "      <td>259dac757896d24d7702b9acbbff3f3c</td>\n",
              "      <td>8775</td>\n",
              "      <td>mogi das cruzes</td>\n",
              "      <td>SP</td>\n",
              "    </tr>\n",
              "    <tr>\n",
              "      <th>4</th>\n",
              "      <td>4f2d8ab171c80ec8364f7c12e35b23ad</td>\n",
              "      <td>345ecd01c38d18a9036ed96c73b8d066</td>\n",
              "      <td>13056</td>\n",
              "      <td>campinas</td>\n",
              "      <td>SP</td>\n",
              "    </tr>\n",
              "  </tbody>\n",
              "</table>\n",
              "</div>"
            ],
            "text/plain": [
              "                        customer_id                customer_unique_id  \\\n",
              "0  06b8999e2fba1a1fbc88172c00ba8bc7  861eff4711a542e4b93843c6dd7febb0   \n",
              "1  18955e83d337fd6b2def6b18a428ac77  290c77bc529b7ac935b93aa66c333dc3   \n",
              "2  4e7b3e00288586ebd08712fdd0374a03  060e732b5b29e8181a18229c7b0b2b5e   \n",
              "3  b2b6027bc5c5109e529d4dc6358b12c3  259dac757896d24d7702b9acbbff3f3c   \n",
              "4  4f2d8ab171c80ec8364f7c12e35b23ad  345ecd01c38d18a9036ed96c73b8d066   \n",
              "\n",
              "   customer_zip_code_prefix          customer_city customer_state  \n",
              "0                     14409                 franca             SP  \n",
              "1                      9790  sao bernardo do campo             SP  \n",
              "2                      1151              sao paulo             SP  \n",
              "3                      8775        mogi das cruzes             SP  \n",
              "4                     13056               campinas             SP  "
            ]
          },
          "execution_count": 5,
          "metadata": {},
          "output_type": "execute_result"
        }
      ],
      "source": [
        "customers_df = pd.read_csv(\"data/customers_dataset.csv\")\n",
        "customers_df.head()"
      ]
    },
    {
      "cell_type": "markdown",
      "metadata": {},
      "source": [
        "- Menilai data customers_df"
      ]
    },
    {
      "cell_type": "code",
      "execution_count": 7,
      "metadata": {},
      "outputs": [
        {
          "name": "stdout",
          "output_type": "stream",
          "text": [
            "<class 'pandas.core.frame.DataFrame'>\n",
            "RangeIndex: 99441 entries, 0 to 99440\n",
            "Data columns (total 5 columns):\n",
            " #   Column                    Non-Null Count  Dtype \n",
            "---  ------                    --------------  ----- \n",
            " 0   customer_id               99441 non-null  object\n",
            " 1   customer_unique_id        99441 non-null  object\n",
            " 2   customer_zip_code_prefix  99441 non-null  int64 \n",
            " 3   customer_city             99441 non-null  object\n",
            " 4   customer_state            99441 non-null  object\n",
            "dtypes: int64(1), object(4)\n",
            "memory usage: 3.8+ MB\n",
            "Jumlah duplikasi:  0\n"
          ]
        }
      ],
      "source": [
        "customers_df.info()"
      ]
    },
    {
      "cell_type": "markdown",
      "metadata": {},
      "source": [
        "Dilihat tidak ada yang salah dengan jumlah dan data typenya"
      ]
    },
    {
      "cell_type": "code",
      "execution_count": 10,
      "metadata": {},
      "outputs": [
        {
          "name": "stdout",
          "output_type": "stream",
          "text": [
            "Jumlah duplikasi:  0\n"
          ]
        },
        {
          "data": {
            "text/plain": [
              "customer_id                 0\n",
              "customer_unique_id          0\n",
              "customer_zip_code_prefix    0\n",
              "customer_city               0\n",
              "customer_state              0\n",
              "dtype: int64"
            ]
          },
          "execution_count": 10,
          "metadata": {},
          "output_type": "execute_result"
        }
      ],
      "source": [
        "print(\"Jumlah duplikasi: \", customers_df.duplicated().sum())\n",
        "customers_df.isna().sum()"
      ]
    },
    {
      "cell_type": "markdown",
      "metadata": {},
      "source": [
        "Tidak ada duplikasi maupun missing values"
      ]
    },
    {
      "cell_type": "code",
      "execution_count": 11,
      "metadata": {},
      "outputs": [
        {
          "data": {
            "text/html": [
              "<div>\n",
              "<style scoped>\n",
              "    .dataframe tbody tr th:only-of-type {\n",
              "        vertical-align: middle;\n",
              "    }\n",
              "\n",
              "    .dataframe tbody tr th {\n",
              "        vertical-align: top;\n",
              "    }\n",
              "\n",
              "    .dataframe thead th {\n",
              "        text-align: right;\n",
              "    }\n",
              "</style>\n",
              "<table border=\"1\" class=\"dataframe\">\n",
              "  <thead>\n",
              "    <tr style=\"text-align: right;\">\n",
              "      <th></th>\n",
              "      <th>customer_zip_code_prefix</th>\n",
              "    </tr>\n",
              "  </thead>\n",
              "  <tbody>\n",
              "    <tr>\n",
              "      <th>count</th>\n",
              "      <td>99441.000000</td>\n",
              "    </tr>\n",
              "    <tr>\n",
              "      <th>mean</th>\n",
              "      <td>35137.474583</td>\n",
              "    </tr>\n",
              "    <tr>\n",
              "      <th>std</th>\n",
              "      <td>29797.938996</td>\n",
              "    </tr>\n",
              "    <tr>\n",
              "      <th>min</th>\n",
              "      <td>1003.000000</td>\n",
              "    </tr>\n",
              "    <tr>\n",
              "      <th>25%</th>\n",
              "      <td>11347.000000</td>\n",
              "    </tr>\n",
              "    <tr>\n",
              "      <th>50%</th>\n",
              "      <td>24416.000000</td>\n",
              "    </tr>\n",
              "    <tr>\n",
              "      <th>75%</th>\n",
              "      <td>58900.000000</td>\n",
              "    </tr>\n",
              "    <tr>\n",
              "      <th>max</th>\n",
              "      <td>99990.000000</td>\n",
              "    </tr>\n",
              "  </tbody>\n",
              "</table>\n",
              "</div>"
            ],
            "text/plain": [
              "       customer_zip_code_prefix\n",
              "count              99441.000000\n",
              "mean               35137.474583\n",
              "std                29797.938996\n",
              "min                 1003.000000\n",
              "25%                11347.000000\n",
              "50%                24416.000000\n",
              "75%                58900.000000\n",
              "max                99990.000000"
            ]
          },
          "execution_count": 11,
          "metadata": {},
          "output_type": "execute_result"
        }
      ],
      "source": [
        "customers_df.describe()"
      ]
    },
    {
      "cell_type": "markdown",
      "metadata": {},
      "source": [
        "Tidak ada keanehan dari tabel customers_df"
      ]
    },
    {
      "cell_type": "markdown",
      "metadata": {},
      "source": [
        "#### sellers_dataset.csv"
      ]
    },
    {
      "cell_type": "markdown",
      "metadata": {},
      "source": [
        "- Memuat data"
      ]
    },
    {
      "cell_type": "code",
      "execution_count": 12,
      "metadata": {},
      "outputs": [
        {
          "data": {
            "text/html": [
              "<div>\n",
              "<style scoped>\n",
              "    .dataframe tbody tr th:only-of-type {\n",
              "        vertical-align: middle;\n",
              "    }\n",
              "\n",
              "    .dataframe tbody tr th {\n",
              "        vertical-align: top;\n",
              "    }\n",
              "\n",
              "    .dataframe thead th {\n",
              "        text-align: right;\n",
              "    }\n",
              "</style>\n",
              "<table border=\"1\" class=\"dataframe\">\n",
              "  <thead>\n",
              "    <tr style=\"text-align: right;\">\n",
              "      <th></th>\n",
              "      <th>seller_id</th>\n",
              "      <th>seller_zip_code_prefix</th>\n",
              "      <th>seller_city</th>\n",
              "      <th>seller_state</th>\n",
              "    </tr>\n",
              "  </thead>\n",
              "  <tbody>\n",
              "    <tr>\n",
              "      <th>0</th>\n",
              "      <td>3442f8959a84dea7ee197c632cb2df15</td>\n",
              "      <td>13023</td>\n",
              "      <td>campinas</td>\n",
              "      <td>SP</td>\n",
              "    </tr>\n",
              "    <tr>\n",
              "      <th>1</th>\n",
              "      <td>d1b65fc7debc3361ea86b5f14c68d2e2</td>\n",
              "      <td>13844</td>\n",
              "      <td>mogi guacu</td>\n",
              "      <td>SP</td>\n",
              "    </tr>\n",
              "    <tr>\n",
              "      <th>2</th>\n",
              "      <td>ce3ad9de960102d0677a81f5d0bb7b2d</td>\n",
              "      <td>20031</td>\n",
              "      <td>rio de janeiro</td>\n",
              "      <td>RJ</td>\n",
              "    </tr>\n",
              "    <tr>\n",
              "      <th>3</th>\n",
              "      <td>c0f3eea2e14555b6faeea3dd58c1b1c3</td>\n",
              "      <td>4195</td>\n",
              "      <td>sao paulo</td>\n",
              "      <td>SP</td>\n",
              "    </tr>\n",
              "    <tr>\n",
              "      <th>4</th>\n",
              "      <td>51a04a8a6bdcb23deccc82b0b80742cf</td>\n",
              "      <td>12914</td>\n",
              "      <td>braganca paulista</td>\n",
              "      <td>SP</td>\n",
              "    </tr>\n",
              "  </tbody>\n",
              "</table>\n",
              "</div>"
            ],
            "text/plain": [
              "                          seller_id  seller_zip_code_prefix  \\\n",
              "0  3442f8959a84dea7ee197c632cb2df15                   13023   \n",
              "1  d1b65fc7debc3361ea86b5f14c68d2e2                   13844   \n",
              "2  ce3ad9de960102d0677a81f5d0bb7b2d                   20031   \n",
              "3  c0f3eea2e14555b6faeea3dd58c1b1c3                    4195   \n",
              "4  51a04a8a6bdcb23deccc82b0b80742cf                   12914   \n",
              "\n",
              "         seller_city seller_state  \n",
              "0           campinas           SP  \n",
              "1         mogi guacu           SP  \n",
              "2     rio de janeiro           RJ  \n",
              "3          sao paulo           SP  \n",
              "4  braganca paulista           SP  "
            ]
          },
          "execution_count": 12,
          "metadata": {},
          "output_type": "execute_result"
        }
      ],
      "source": [
        "seller_df = pd.read_csv(\"data/sellers_dataset.csv\")\n",
        "seller_df.head()"
      ]
    },
    {
      "cell_type": "markdown",
      "metadata": {},
      "source": [
        "- Menilai sellers_dataset.csv"
      ]
    },
    {
      "cell_type": "code",
      "execution_count": 13,
      "metadata": {},
      "outputs": [
        {
          "name": "stdout",
          "output_type": "stream",
          "text": [
            "<class 'pandas.core.frame.DataFrame'>\n",
            "RangeIndex: 3095 entries, 0 to 3094\n",
            "Data columns (total 4 columns):\n",
            " #   Column                  Non-Null Count  Dtype \n",
            "---  ------                  --------------  ----- \n",
            " 0   seller_id               3095 non-null   object\n",
            " 1   seller_zip_code_prefix  3095 non-null   int64 \n",
            " 2   seller_city             3095 non-null   object\n",
            " 3   seller_state            3095 non-null   object\n",
            "dtypes: int64(1), object(3)\n",
            "memory usage: 96.8+ KB\n"
          ]
        }
      ],
      "source": [
        "seller_df.info()"
      ]
    },
    {
      "cell_type": "markdown",
      "metadata": {},
      "source": [
        "Tidak ada yang salah dengan data type dan jumlah datanya"
      ]
    },
    {
      "cell_type": "code",
      "execution_count": 14,
      "metadata": {},
      "outputs": [
        {
          "name": "stdout",
          "output_type": "stream",
          "text": [
            "Jumlah duplikasi:  0\n"
          ]
        },
        {
          "data": {
            "text/plain": [
              "seller_id                 0\n",
              "seller_zip_code_prefix    0\n",
              "seller_city               0\n",
              "seller_state              0\n",
              "dtype: int64"
            ]
          },
          "execution_count": 14,
          "metadata": {},
          "output_type": "execute_result"
        }
      ],
      "source": [
        "print(\"Jumlah duplikasi: \", seller_df.duplicated().sum())\n",
        "seller_df.isna().sum()"
      ]
    },
    {
      "cell_type": "markdown",
      "metadata": {},
      "source": [
        "Tidak ada duplikat maupun missing value"
      ]
    },
    {
      "cell_type": "code",
      "execution_count": 15,
      "metadata": {},
      "outputs": [
        {
          "data": {
            "text/html": [
              "<div>\n",
              "<style scoped>\n",
              "    .dataframe tbody tr th:only-of-type {\n",
              "        vertical-align: middle;\n",
              "    }\n",
              "\n",
              "    .dataframe tbody tr th {\n",
              "        vertical-align: top;\n",
              "    }\n",
              "\n",
              "    .dataframe thead th {\n",
              "        text-align: right;\n",
              "    }\n",
              "</style>\n",
              "<table border=\"1\" class=\"dataframe\">\n",
              "  <thead>\n",
              "    <tr style=\"text-align: right;\">\n",
              "      <th></th>\n",
              "      <th>seller_zip_code_prefix</th>\n",
              "    </tr>\n",
              "  </thead>\n",
              "  <tbody>\n",
              "    <tr>\n",
              "      <th>count</th>\n",
              "      <td>3095.000000</td>\n",
              "    </tr>\n",
              "    <tr>\n",
              "      <th>mean</th>\n",
              "      <td>32291.059451</td>\n",
              "    </tr>\n",
              "    <tr>\n",
              "      <th>std</th>\n",
              "      <td>32713.453830</td>\n",
              "    </tr>\n",
              "    <tr>\n",
              "      <th>min</th>\n",
              "      <td>1001.000000</td>\n",
              "    </tr>\n",
              "    <tr>\n",
              "      <th>25%</th>\n",
              "      <td>7093.500000</td>\n",
              "    </tr>\n",
              "    <tr>\n",
              "      <th>50%</th>\n",
              "      <td>14940.000000</td>\n",
              "    </tr>\n",
              "    <tr>\n",
              "      <th>75%</th>\n",
              "      <td>64552.500000</td>\n",
              "    </tr>\n",
              "    <tr>\n",
              "      <th>max</th>\n",
              "      <td>99730.000000</td>\n",
              "    </tr>\n",
              "  </tbody>\n",
              "</table>\n",
              "</div>"
            ],
            "text/plain": [
              "       seller_zip_code_prefix\n",
              "count             3095.000000\n",
              "mean             32291.059451\n",
              "std              32713.453830\n",
              "min               1001.000000\n",
              "25%               7093.500000\n",
              "50%              14940.000000\n",
              "75%              64552.500000\n",
              "max              99730.000000"
            ]
          },
          "execution_count": 15,
          "metadata": {},
          "output_type": "execute_result"
        }
      ],
      "source": [
        "seller_df.describe()"
      ]
    },
    {
      "cell_type": "markdown",
      "metadata": {},
      "source": [
        "Tidak ada keanehan dari tabel seller_df"
      ]
    },
    {
      "cell_type": "markdown",
      "metadata": {},
      "source": [
        "#### geolocation_dataset.csv"
      ]
    },
    {
      "cell_type": "markdown",
      "metadata": {},
      "source": [
        "- Memuat data"
      ]
    },
    {
      "cell_type": "code",
      "execution_count": 16,
      "metadata": {},
      "outputs": [
        {
          "data": {
            "text/html": [
              "<div>\n",
              "<style scoped>\n",
              "    .dataframe tbody tr th:only-of-type {\n",
              "        vertical-align: middle;\n",
              "    }\n",
              "\n",
              "    .dataframe tbody tr th {\n",
              "        vertical-align: top;\n",
              "    }\n",
              "\n",
              "    .dataframe thead th {\n",
              "        text-align: right;\n",
              "    }\n",
              "</style>\n",
              "<table border=\"1\" class=\"dataframe\">\n",
              "  <thead>\n",
              "    <tr style=\"text-align: right;\">\n",
              "      <th></th>\n",
              "      <th>geolocation_zip_code_prefix</th>\n",
              "      <th>geolocation_lat</th>\n",
              "      <th>geolocation_lng</th>\n",
              "      <th>geolocation_city</th>\n",
              "      <th>geolocation_state</th>\n",
              "    </tr>\n",
              "  </thead>\n",
              "  <tbody>\n",
              "    <tr>\n",
              "      <th>0</th>\n",
              "      <td>1037</td>\n",
              "      <td>-23.545621</td>\n",
              "      <td>-46.639292</td>\n",
              "      <td>sao paulo</td>\n",
              "      <td>SP</td>\n",
              "    </tr>\n",
              "    <tr>\n",
              "      <th>1</th>\n",
              "      <td>1046</td>\n",
              "      <td>-23.546081</td>\n",
              "      <td>-46.644820</td>\n",
              "      <td>sao paulo</td>\n",
              "      <td>SP</td>\n",
              "    </tr>\n",
              "    <tr>\n",
              "      <th>2</th>\n",
              "      <td>1046</td>\n",
              "      <td>-23.546129</td>\n",
              "      <td>-46.642951</td>\n",
              "      <td>sao paulo</td>\n",
              "      <td>SP</td>\n",
              "    </tr>\n",
              "    <tr>\n",
              "      <th>3</th>\n",
              "      <td>1041</td>\n",
              "      <td>-23.544392</td>\n",
              "      <td>-46.639499</td>\n",
              "      <td>sao paulo</td>\n",
              "      <td>SP</td>\n",
              "    </tr>\n",
              "    <tr>\n",
              "      <th>4</th>\n",
              "      <td>1035</td>\n",
              "      <td>-23.541578</td>\n",
              "      <td>-46.641607</td>\n",
              "      <td>sao paulo</td>\n",
              "      <td>SP</td>\n",
              "    </tr>\n",
              "  </tbody>\n",
              "</table>\n",
              "</div>"
            ],
            "text/plain": [
              "   geolocation_zip_code_prefix  geolocation_lat  geolocation_lng  \\\n",
              "0                         1037       -23.545621       -46.639292   \n",
              "1                         1046       -23.546081       -46.644820   \n",
              "2                         1046       -23.546129       -46.642951   \n",
              "3                         1041       -23.544392       -46.639499   \n",
              "4                         1035       -23.541578       -46.641607   \n",
              "\n",
              "  geolocation_city geolocation_state  \n",
              "0        sao paulo                SP  \n",
              "1        sao paulo                SP  \n",
              "2        sao paulo                SP  \n",
              "3        sao paulo                SP  \n",
              "4        sao paulo                SP  "
            ]
          },
          "execution_count": 16,
          "metadata": {},
          "output_type": "execute_result"
        }
      ],
      "source": [
        "geolocation_df = pd.read_csv(\"data/geolocation_dataset.csv\")\n",
        "geolocation_df.head()"
      ]
    },
    {
      "cell_type": "markdown",
      "metadata": {},
      "source": [
        "- Menilai data"
      ]
    },
    {
      "cell_type": "code",
      "execution_count": 17,
      "metadata": {},
      "outputs": [
        {
          "name": "stdout",
          "output_type": "stream",
          "text": [
            "<class 'pandas.core.frame.DataFrame'>\n",
            "RangeIndex: 1000163 entries, 0 to 1000162\n",
            "Data columns (total 5 columns):\n",
            " #   Column                       Non-Null Count    Dtype  \n",
            "---  ------                       --------------    -----  \n",
            " 0   geolocation_zip_code_prefix  1000163 non-null  int64  \n",
            " 1   geolocation_lat              1000163 non-null  float64\n",
            " 2   geolocation_lng              1000163 non-null  float64\n",
            " 3   geolocation_city             1000163 non-null  object \n",
            " 4   geolocation_state            1000163 non-null  object \n",
            "dtypes: float64(2), int64(1), object(2)\n",
            "memory usage: 38.2+ MB\n"
          ]
        }
      ],
      "source": [
        "geolocation_df.info()"
      ]
    },
    {
      "cell_type": "markdown",
      "metadata": {},
      "source": [
        "Jumlah data dan tipe data sesuai"
      ]
    },
    {
      "cell_type": "code",
      "execution_count": 18,
      "metadata": {},
      "outputs": [
        {
          "name": "stdout",
          "output_type": "stream",
          "text": [
            "Jumlah duplikasi:  261831\n"
          ]
        },
        {
          "data": {
            "text/plain": [
              "geolocation_zip_code_prefix    0\n",
              "geolocation_lat                0\n",
              "geolocation_lng                0\n",
              "geolocation_city               0\n",
              "geolocation_state              0\n",
              "dtype: int64"
            ]
          },
          "execution_count": 18,
          "metadata": {},
          "output_type": "execute_result"
        }
      ],
      "source": [
        "print(\"Jumlah duplikasi: \", geolocation_df.duplicated().sum())\n",
        "geolocation_df.isna().sum()"
      ]
    },
    {
      "cell_type": "markdown",
      "metadata": {},
      "source": [
        "Terdapat 261831 duplikasi data dan 0 missing value"
      ]
    },
    {
      "cell_type": "code",
      "execution_count": 19,
      "metadata": {},
      "outputs": [
        {
          "data": {
            "text/html": [
              "<div>\n",
              "<style scoped>\n",
              "    .dataframe tbody tr th:only-of-type {\n",
              "        vertical-align: middle;\n",
              "    }\n",
              "\n",
              "    .dataframe tbody tr th {\n",
              "        vertical-align: top;\n",
              "    }\n",
              "\n",
              "    .dataframe thead th {\n",
              "        text-align: right;\n",
              "    }\n",
              "</style>\n",
              "<table border=\"1\" class=\"dataframe\">\n",
              "  <thead>\n",
              "    <tr style=\"text-align: right;\">\n",
              "      <th></th>\n",
              "      <th>geolocation_zip_code_prefix</th>\n",
              "      <th>geolocation_lat</th>\n",
              "      <th>geolocation_lng</th>\n",
              "    </tr>\n",
              "  </thead>\n",
              "  <tbody>\n",
              "    <tr>\n",
              "      <th>count</th>\n",
              "      <td>1.000163e+06</td>\n",
              "      <td>1.000163e+06</td>\n",
              "      <td>1.000163e+06</td>\n",
              "    </tr>\n",
              "    <tr>\n",
              "      <th>mean</th>\n",
              "      <td>3.657417e+04</td>\n",
              "      <td>-2.117615e+01</td>\n",
              "      <td>-4.639054e+01</td>\n",
              "    </tr>\n",
              "    <tr>\n",
              "      <th>std</th>\n",
              "      <td>3.054934e+04</td>\n",
              "      <td>5.715866e+00</td>\n",
              "      <td>4.269748e+00</td>\n",
              "    </tr>\n",
              "    <tr>\n",
              "      <th>min</th>\n",
              "      <td>1.001000e+03</td>\n",
              "      <td>-3.660537e+01</td>\n",
              "      <td>-1.014668e+02</td>\n",
              "    </tr>\n",
              "    <tr>\n",
              "      <th>25%</th>\n",
              "      <td>1.107500e+04</td>\n",
              "      <td>-2.360355e+01</td>\n",
              "      <td>-4.857317e+01</td>\n",
              "    </tr>\n",
              "    <tr>\n",
              "      <th>50%</th>\n",
              "      <td>2.653000e+04</td>\n",
              "      <td>-2.291938e+01</td>\n",
              "      <td>-4.663788e+01</td>\n",
              "    </tr>\n",
              "    <tr>\n",
              "      <th>75%</th>\n",
              "      <td>6.350400e+04</td>\n",
              "      <td>-1.997962e+01</td>\n",
              "      <td>-4.376771e+01</td>\n",
              "    </tr>\n",
              "    <tr>\n",
              "      <th>max</th>\n",
              "      <td>9.999000e+04</td>\n",
              "      <td>4.506593e+01</td>\n",
              "      <td>1.211054e+02</td>\n",
              "    </tr>\n",
              "  </tbody>\n",
              "</table>\n",
              "</div>"
            ],
            "text/plain": [
              "       geolocation_zip_code_prefix  geolocation_lat  geolocation_lng\n",
              "count                 1.000163e+06     1.000163e+06     1.000163e+06\n",
              "mean                  3.657417e+04    -2.117615e+01    -4.639054e+01\n",
              "std                   3.054934e+04     5.715866e+00     4.269748e+00\n",
              "min                   1.001000e+03    -3.660537e+01    -1.014668e+02\n",
              "25%                   1.107500e+04    -2.360355e+01    -4.857317e+01\n",
              "50%                   2.653000e+04    -2.291938e+01    -4.663788e+01\n",
              "75%                   6.350400e+04    -1.997962e+01    -4.376771e+01\n",
              "max                   9.999000e+04     4.506593e+01     1.211054e+02"
            ]
          },
          "execution_count": 19,
          "metadata": {},
          "output_type": "execute_result"
        }
      ],
      "source": [
        "geolocation_df.describe()"
      ]
    },
    {
      "cell_type": "markdown",
      "metadata": {},
      "source": [
        "Tidak ada keanehan dari tabel geolocation_df selain duplikasi data"
      ]
    },
    {
      "cell_type": "markdown",
      "metadata": {},
      "source": [
        "#### products_dataset.csv"
      ]
    },
    {
      "cell_type": "markdown",
      "metadata": {},
      "source": [
        "- Memuat data"
      ]
    },
    {
      "cell_type": "code",
      "execution_count": 20,
      "metadata": {},
      "outputs": [
        {
          "data": {
            "text/html": [
              "<div>\n",
              "<style scoped>\n",
              "    .dataframe tbody tr th:only-of-type {\n",
              "        vertical-align: middle;\n",
              "    }\n",
              "\n",
              "    .dataframe tbody tr th {\n",
              "        vertical-align: top;\n",
              "    }\n",
              "\n",
              "    .dataframe thead th {\n",
              "        text-align: right;\n",
              "    }\n",
              "</style>\n",
              "<table border=\"1\" class=\"dataframe\">\n",
              "  <thead>\n",
              "    <tr style=\"text-align: right;\">\n",
              "      <th></th>\n",
              "      <th>product_id</th>\n",
              "      <th>product_category_name</th>\n",
              "      <th>product_name_lenght</th>\n",
              "      <th>product_description_lenght</th>\n",
              "      <th>product_photos_qty</th>\n",
              "      <th>product_weight_g</th>\n",
              "      <th>product_length_cm</th>\n",
              "      <th>product_height_cm</th>\n",
              "      <th>product_width_cm</th>\n",
              "    </tr>\n",
              "  </thead>\n",
              "  <tbody>\n",
              "    <tr>\n",
              "      <th>0</th>\n",
              "      <td>1e9e8ef04dbcff4541ed26657ea517e5</td>\n",
              "      <td>perfumaria</td>\n",
              "      <td>40.0</td>\n",
              "      <td>287.0</td>\n",
              "      <td>1.0</td>\n",
              "      <td>225.0</td>\n",
              "      <td>16.0</td>\n",
              "      <td>10.0</td>\n",
              "      <td>14.0</td>\n",
              "    </tr>\n",
              "    <tr>\n",
              "      <th>1</th>\n",
              "      <td>3aa071139cb16b67ca9e5dea641aaa2f</td>\n",
              "      <td>artes</td>\n",
              "      <td>44.0</td>\n",
              "      <td>276.0</td>\n",
              "      <td>1.0</td>\n",
              "      <td>1000.0</td>\n",
              "      <td>30.0</td>\n",
              "      <td>18.0</td>\n",
              "      <td>20.0</td>\n",
              "    </tr>\n",
              "    <tr>\n",
              "      <th>2</th>\n",
              "      <td>96bd76ec8810374ed1b65e291975717f</td>\n",
              "      <td>esporte_lazer</td>\n",
              "      <td>46.0</td>\n",
              "      <td>250.0</td>\n",
              "      <td>1.0</td>\n",
              "      <td>154.0</td>\n",
              "      <td>18.0</td>\n",
              "      <td>9.0</td>\n",
              "      <td>15.0</td>\n",
              "    </tr>\n",
              "    <tr>\n",
              "      <th>3</th>\n",
              "      <td>cef67bcfe19066a932b7673e239eb23d</td>\n",
              "      <td>bebes</td>\n",
              "      <td>27.0</td>\n",
              "      <td>261.0</td>\n",
              "      <td>1.0</td>\n",
              "      <td>371.0</td>\n",
              "      <td>26.0</td>\n",
              "      <td>4.0</td>\n",
              "      <td>26.0</td>\n",
              "    </tr>\n",
              "    <tr>\n",
              "      <th>4</th>\n",
              "      <td>9dc1a7de274444849c219cff195d0b71</td>\n",
              "      <td>utilidades_domesticas</td>\n",
              "      <td>37.0</td>\n",
              "      <td>402.0</td>\n",
              "      <td>4.0</td>\n",
              "      <td>625.0</td>\n",
              "      <td>20.0</td>\n",
              "      <td>17.0</td>\n",
              "      <td>13.0</td>\n",
              "    </tr>\n",
              "  </tbody>\n",
              "</table>\n",
              "</div>"
            ],
            "text/plain": [
              "                         product_id  product_category_name  \\\n",
              "0  1e9e8ef04dbcff4541ed26657ea517e5             perfumaria   \n",
              "1  3aa071139cb16b67ca9e5dea641aaa2f                  artes   \n",
              "2  96bd76ec8810374ed1b65e291975717f          esporte_lazer   \n",
              "3  cef67bcfe19066a932b7673e239eb23d                  bebes   \n",
              "4  9dc1a7de274444849c219cff195d0b71  utilidades_domesticas   \n",
              "\n",
              "   product_name_lenght  product_description_lenght  product_photos_qty  \\\n",
              "0                 40.0                       287.0                 1.0   \n",
              "1                 44.0                       276.0                 1.0   \n",
              "2                 46.0                       250.0                 1.0   \n",
              "3                 27.0                       261.0                 1.0   \n",
              "4                 37.0                       402.0                 4.0   \n",
              "\n",
              "   product_weight_g  product_length_cm  product_height_cm  product_width_cm  \n",
              "0             225.0               16.0               10.0              14.0  \n",
              "1            1000.0               30.0               18.0              20.0  \n",
              "2             154.0               18.0                9.0              15.0  \n",
              "3             371.0               26.0                4.0              26.0  \n",
              "4             625.0               20.0               17.0              13.0  "
            ]
          },
          "execution_count": 20,
          "metadata": {},
          "output_type": "execute_result"
        }
      ],
      "source": [
        "products_df = pd.read_csv(\"data/products_dataset.csv\")\n",
        "products_df.head()"
      ]
    },
    {
      "cell_type": "markdown",
      "metadata": {},
      "source": [
        "- Menilai data"
      ]
    },
    {
      "cell_type": "code",
      "execution_count": 21,
      "metadata": {},
      "outputs": [
        {
          "name": "stdout",
          "output_type": "stream",
          "text": [
            "<class 'pandas.core.frame.DataFrame'>\n",
            "RangeIndex: 32951 entries, 0 to 32950\n",
            "Data columns (total 9 columns):\n",
            " #   Column                      Non-Null Count  Dtype  \n",
            "---  ------                      --------------  -----  \n",
            " 0   product_id                  32951 non-null  object \n",
            " 1   product_category_name       32341 non-null  object \n",
            " 2   product_name_lenght         32341 non-null  float64\n",
            " 3   product_description_lenght  32341 non-null  float64\n",
            " 4   product_photos_qty          32341 non-null  float64\n",
            " 5   product_weight_g            32949 non-null  float64\n",
            " 6   product_length_cm           32949 non-null  float64\n",
            " 7   product_height_cm           32949 non-null  float64\n",
            " 8   product_width_cm            32949 non-null  float64\n",
            "dtypes: float64(7), object(2)\n",
            "memory usage: 2.3+ MB\n"
          ]
        }
      ],
      "source": [
        "products_df.info()"
      ]
    },
    {
      "cell_type": "markdown",
      "metadata": {},
      "source": [
        "Dilihat tidak ada masalah dengan tipe data, tetapi terdapat perbedaan pada jumlah data"
      ]
    },
    {
      "cell_type": "code",
      "execution_count": 22,
      "metadata": {},
      "outputs": [
        {
          "name": "stdout",
          "output_type": "stream",
          "text": [
            "Jumlah duplikasi:  0\n"
          ]
        },
        {
          "data": {
            "text/plain": [
              "product_id                      0\n",
              "product_category_name         610\n",
              "product_name_lenght           610\n",
              "product_description_lenght    610\n",
              "product_photos_qty            610\n",
              "product_weight_g                2\n",
              "product_length_cm               2\n",
              "product_height_cm               2\n",
              "product_width_cm                2\n",
              "dtype: int64"
            ]
          },
          "execution_count": 22,
          "metadata": {},
          "output_type": "execute_result"
        }
      ],
      "source": [
        "print(\"Jumlah duplikasi: \", products_df.duplicated().sum())\n",
        "products_df.isna().sum()"
      ]
    },
    {
      "cell_type": "markdown",
      "metadata": {},
      "source": [
        "Dapat dilihat bahwa terdapat missing values"
      ]
    },
    {
      "cell_type": "code",
      "execution_count": 23,
      "metadata": {},
      "outputs": [
        {
          "data": {
            "text/html": [
              "<div>\n",
              "<style scoped>\n",
              "    .dataframe tbody tr th:only-of-type {\n",
              "        vertical-align: middle;\n",
              "    }\n",
              "\n",
              "    .dataframe tbody tr th {\n",
              "        vertical-align: top;\n",
              "    }\n",
              "\n",
              "    .dataframe thead th {\n",
              "        text-align: right;\n",
              "    }\n",
              "</style>\n",
              "<table border=\"1\" class=\"dataframe\">\n",
              "  <thead>\n",
              "    <tr style=\"text-align: right;\">\n",
              "      <th></th>\n",
              "      <th>product_name_lenght</th>\n",
              "      <th>product_description_lenght</th>\n",
              "      <th>product_photos_qty</th>\n",
              "      <th>product_weight_g</th>\n",
              "      <th>product_length_cm</th>\n",
              "      <th>product_height_cm</th>\n",
              "      <th>product_width_cm</th>\n",
              "    </tr>\n",
              "  </thead>\n",
              "  <tbody>\n",
              "    <tr>\n",
              "      <th>count</th>\n",
              "      <td>32341.000000</td>\n",
              "      <td>32341.000000</td>\n",
              "      <td>32341.000000</td>\n",
              "      <td>32949.000000</td>\n",
              "      <td>32949.000000</td>\n",
              "      <td>32949.000000</td>\n",
              "      <td>32949.000000</td>\n",
              "    </tr>\n",
              "    <tr>\n",
              "      <th>mean</th>\n",
              "      <td>48.476949</td>\n",
              "      <td>771.495285</td>\n",
              "      <td>2.188986</td>\n",
              "      <td>2276.472488</td>\n",
              "      <td>30.815078</td>\n",
              "      <td>16.937661</td>\n",
              "      <td>23.196728</td>\n",
              "    </tr>\n",
              "    <tr>\n",
              "      <th>std</th>\n",
              "      <td>10.245741</td>\n",
              "      <td>635.115225</td>\n",
              "      <td>1.736766</td>\n",
              "      <td>4282.038731</td>\n",
              "      <td>16.914458</td>\n",
              "      <td>13.637554</td>\n",
              "      <td>12.079047</td>\n",
              "    </tr>\n",
              "    <tr>\n",
              "      <th>min</th>\n",
              "      <td>5.000000</td>\n",
              "      <td>4.000000</td>\n",
              "      <td>1.000000</td>\n",
              "      <td>0.000000</td>\n",
              "      <td>7.000000</td>\n",
              "      <td>2.000000</td>\n",
              "      <td>6.000000</td>\n",
              "    </tr>\n",
              "    <tr>\n",
              "      <th>25%</th>\n",
              "      <td>42.000000</td>\n",
              "      <td>339.000000</td>\n",
              "      <td>1.000000</td>\n",
              "      <td>300.000000</td>\n",
              "      <td>18.000000</td>\n",
              "      <td>8.000000</td>\n",
              "      <td>15.000000</td>\n",
              "    </tr>\n",
              "    <tr>\n",
              "      <th>50%</th>\n",
              "      <td>51.000000</td>\n",
              "      <td>595.000000</td>\n",
              "      <td>1.000000</td>\n",
              "      <td>700.000000</td>\n",
              "      <td>25.000000</td>\n",
              "      <td>13.000000</td>\n",
              "      <td>20.000000</td>\n",
              "    </tr>\n",
              "    <tr>\n",
              "      <th>75%</th>\n",
              "      <td>57.000000</td>\n",
              "      <td>972.000000</td>\n",
              "      <td>3.000000</td>\n",
              "      <td>1900.000000</td>\n",
              "      <td>38.000000</td>\n",
              "      <td>21.000000</td>\n",
              "      <td>30.000000</td>\n",
              "    </tr>\n",
              "    <tr>\n",
              "      <th>max</th>\n",
              "      <td>76.000000</td>\n",
              "      <td>3992.000000</td>\n",
              "      <td>20.000000</td>\n",
              "      <td>40425.000000</td>\n",
              "      <td>105.000000</td>\n",
              "      <td>105.000000</td>\n",
              "      <td>118.000000</td>\n",
              "    </tr>\n",
              "  </tbody>\n",
              "</table>\n",
              "</div>"
            ],
            "text/plain": [
              "       product_name_lenght  product_description_lenght  product_photos_qty  \\\n",
              "count         32341.000000                32341.000000        32341.000000   \n",
              "mean             48.476949                  771.495285            2.188986   \n",
              "std              10.245741                  635.115225            1.736766   \n",
              "min               5.000000                    4.000000            1.000000   \n",
              "25%              42.000000                  339.000000            1.000000   \n",
              "50%              51.000000                  595.000000            1.000000   \n",
              "75%              57.000000                  972.000000            3.000000   \n",
              "max              76.000000                 3992.000000           20.000000   \n",
              "\n",
              "       product_weight_g  product_length_cm  product_height_cm  \\\n",
              "count      32949.000000       32949.000000       32949.000000   \n",
              "mean        2276.472488          30.815078          16.937661   \n",
              "std         4282.038731          16.914458          13.637554   \n",
              "min            0.000000           7.000000           2.000000   \n",
              "25%          300.000000          18.000000           8.000000   \n",
              "50%          700.000000          25.000000          13.000000   \n",
              "75%         1900.000000          38.000000          21.000000   \n",
              "max        40425.000000         105.000000         105.000000   \n",
              "\n",
              "       product_width_cm  \n",
              "count      32949.000000  \n",
              "mean          23.196728  \n",
              "std           12.079047  \n",
              "min            6.000000  \n",
              "25%           15.000000  \n",
              "50%           20.000000  \n",
              "75%           30.000000  \n",
              "max          118.000000  "
            ]
          },
          "execution_count": 23,
          "metadata": {},
          "output_type": "execute_result"
        }
      ],
      "source": [
        "products_df.describe()"
      ]
    },
    {
      "cell_type": "markdown",
      "metadata": {},
      "source": [
        "Keanehan pada tabel products_df yaitu terdapat missing values"
      ]
    },
    {
      "cell_type": "markdown",
      "metadata": {},
      "source": [
        "#### order_items_dataset.csv"
      ]
    },
    {
      "cell_type": "markdown",
      "metadata": {},
      "source": [
        "- Memuat data"
      ]
    },
    {
      "cell_type": "code",
      "execution_count": 24,
      "metadata": {},
      "outputs": [
        {
          "data": {
            "text/html": [
              "<div>\n",
              "<style scoped>\n",
              "    .dataframe tbody tr th:only-of-type {\n",
              "        vertical-align: middle;\n",
              "    }\n",
              "\n",
              "    .dataframe tbody tr th {\n",
              "        vertical-align: top;\n",
              "    }\n",
              "\n",
              "    .dataframe thead th {\n",
              "        text-align: right;\n",
              "    }\n",
              "</style>\n",
              "<table border=\"1\" class=\"dataframe\">\n",
              "  <thead>\n",
              "    <tr style=\"text-align: right;\">\n",
              "      <th></th>\n",
              "      <th>order_id</th>\n",
              "      <th>order_item_id</th>\n",
              "      <th>product_id</th>\n",
              "      <th>seller_id</th>\n",
              "      <th>shipping_limit_date</th>\n",
              "      <th>price</th>\n",
              "      <th>freight_value</th>\n",
              "    </tr>\n",
              "  </thead>\n",
              "  <tbody>\n",
              "    <tr>\n",
              "      <th>0</th>\n",
              "      <td>00010242fe8c5a6d1ba2dd792cb16214</td>\n",
              "      <td>1</td>\n",
              "      <td>4244733e06e7ecb4970a6e2683c13e61</td>\n",
              "      <td>48436dade18ac8b2bce089ec2a041202</td>\n",
              "      <td>2017-09-19 09:45:35</td>\n",
              "      <td>58.90</td>\n",
              "      <td>13.29</td>\n",
              "    </tr>\n",
              "    <tr>\n",
              "      <th>1</th>\n",
              "      <td>00018f77f2f0320c557190d7a144bdd3</td>\n",
              "      <td>1</td>\n",
              "      <td>e5f2d52b802189ee658865ca93d83a8f</td>\n",
              "      <td>dd7ddc04e1b6c2c614352b383efe2d36</td>\n",
              "      <td>2017-05-03 11:05:13</td>\n",
              "      <td>239.90</td>\n",
              "      <td>19.93</td>\n",
              "    </tr>\n",
              "    <tr>\n",
              "      <th>2</th>\n",
              "      <td>000229ec398224ef6ca0657da4fc703e</td>\n",
              "      <td>1</td>\n",
              "      <td>c777355d18b72b67abbeef9df44fd0fd</td>\n",
              "      <td>5b51032eddd242adc84c38acab88f23d</td>\n",
              "      <td>2018-01-18 14:48:30</td>\n",
              "      <td>199.00</td>\n",
              "      <td>17.87</td>\n",
              "    </tr>\n",
              "    <tr>\n",
              "      <th>3</th>\n",
              "      <td>00024acbcdf0a6daa1e931b038114c75</td>\n",
              "      <td>1</td>\n",
              "      <td>7634da152a4610f1595efa32f14722fc</td>\n",
              "      <td>9d7a1d34a5052409006425275ba1c2b4</td>\n",
              "      <td>2018-08-15 10:10:18</td>\n",
              "      <td>12.99</td>\n",
              "      <td>12.79</td>\n",
              "    </tr>\n",
              "    <tr>\n",
              "      <th>4</th>\n",
              "      <td>00042b26cf59d7ce69dfabb4e55b4fd9</td>\n",
              "      <td>1</td>\n",
              "      <td>ac6c3623068f30de03045865e4e10089</td>\n",
              "      <td>df560393f3a51e74553ab94004ba5c87</td>\n",
              "      <td>2017-02-13 13:57:51</td>\n",
              "      <td>199.90</td>\n",
              "      <td>18.14</td>\n",
              "    </tr>\n",
              "  </tbody>\n",
              "</table>\n",
              "</div>"
            ],
            "text/plain": [
              "                           order_id  order_item_id  \\\n",
              "0  00010242fe8c5a6d1ba2dd792cb16214              1   \n",
              "1  00018f77f2f0320c557190d7a144bdd3              1   \n",
              "2  000229ec398224ef6ca0657da4fc703e              1   \n",
              "3  00024acbcdf0a6daa1e931b038114c75              1   \n",
              "4  00042b26cf59d7ce69dfabb4e55b4fd9              1   \n",
              "\n",
              "                         product_id                         seller_id  \\\n",
              "0  4244733e06e7ecb4970a6e2683c13e61  48436dade18ac8b2bce089ec2a041202   \n",
              "1  e5f2d52b802189ee658865ca93d83a8f  dd7ddc04e1b6c2c614352b383efe2d36   \n",
              "2  c777355d18b72b67abbeef9df44fd0fd  5b51032eddd242adc84c38acab88f23d   \n",
              "3  7634da152a4610f1595efa32f14722fc  9d7a1d34a5052409006425275ba1c2b4   \n",
              "4  ac6c3623068f30de03045865e4e10089  df560393f3a51e74553ab94004ba5c87   \n",
              "\n",
              "   shipping_limit_date   price  freight_value  \n",
              "0  2017-09-19 09:45:35   58.90          13.29  \n",
              "1  2017-05-03 11:05:13  239.90          19.93  \n",
              "2  2018-01-18 14:48:30  199.00          17.87  \n",
              "3  2018-08-15 10:10:18   12.99          12.79  \n",
              "4  2017-02-13 13:57:51  199.90          18.14  "
            ]
          },
          "execution_count": 24,
          "metadata": {},
          "output_type": "execute_result"
        }
      ],
      "source": [
        "order_items_df = pd.read_csv(\"data/order_items_dataset.csv\")\n",
        "order_items_df.head()"
      ]
    },
    {
      "cell_type": "markdown",
      "metadata": {},
      "source": [
        "- Menilai data"
      ]
    },
    {
      "cell_type": "code",
      "execution_count": 25,
      "metadata": {},
      "outputs": [
        {
          "name": "stdout",
          "output_type": "stream",
          "text": [
            "<class 'pandas.core.frame.DataFrame'>\n",
            "RangeIndex: 112650 entries, 0 to 112649\n",
            "Data columns (total 7 columns):\n",
            " #   Column               Non-Null Count   Dtype  \n",
            "---  ------               --------------   -----  \n",
            " 0   order_id             112650 non-null  object \n",
            " 1   order_item_id        112650 non-null  int64  \n",
            " 2   product_id           112650 non-null  object \n",
            " 3   seller_id            112650 non-null  object \n",
            " 4   shipping_limit_date  112650 non-null  object \n",
            " 5   price                112650 non-null  float64\n",
            " 6   freight_value        112650 non-null  float64\n",
            "dtypes: float64(2), int64(1), object(4)\n",
            "memory usage: 6.0+ MB\n"
          ]
        }
      ],
      "source": [
        "order_items_df.info()"
      ]
    },
    {
      "cell_type": "markdown",
      "metadata": {},
      "source": [
        "Jumlah semua data sama dan terdapat kesalahan tipe data yaitu pada shipping_limit_date yang seharusnya datetime"
      ]
    },
    {
      "cell_type": "code",
      "execution_count": 26,
      "metadata": {},
      "outputs": [
        {
          "name": "stdout",
          "output_type": "stream",
          "text": [
            "Jumlah duplikasi:  0\n"
          ]
        },
        {
          "data": {
            "text/plain": [
              "order_id               0\n",
              "order_item_id          0\n",
              "product_id             0\n",
              "seller_id              0\n",
              "shipping_limit_date    0\n",
              "price                  0\n",
              "freight_value          0\n",
              "dtype: int64"
            ]
          },
          "execution_count": 26,
          "metadata": {},
          "output_type": "execute_result"
        }
      ],
      "source": [
        "print(\"Jumlah duplikasi: \", order_items_df.duplicated().sum())\n",
        "order_items_df.isna().sum()"
      ]
    },
    {
      "cell_type": "markdown",
      "metadata": {},
      "source": [
        "Tidak terdapat duplikasi maupun missing value"
      ]
    },
    {
      "cell_type": "code",
      "execution_count": 27,
      "metadata": {},
      "outputs": [
        {
          "data": {
            "text/html": [
              "<div>\n",
              "<style scoped>\n",
              "    .dataframe tbody tr th:only-of-type {\n",
              "        vertical-align: middle;\n",
              "    }\n",
              "\n",
              "    .dataframe tbody tr th {\n",
              "        vertical-align: top;\n",
              "    }\n",
              "\n",
              "    .dataframe thead th {\n",
              "        text-align: right;\n",
              "    }\n",
              "</style>\n",
              "<table border=\"1\" class=\"dataframe\">\n",
              "  <thead>\n",
              "    <tr style=\"text-align: right;\">\n",
              "      <th></th>\n",
              "      <th>order_item_id</th>\n",
              "      <th>price</th>\n",
              "      <th>freight_value</th>\n",
              "    </tr>\n",
              "  </thead>\n",
              "  <tbody>\n",
              "    <tr>\n",
              "      <th>count</th>\n",
              "      <td>112650.000000</td>\n",
              "      <td>112650.000000</td>\n",
              "      <td>112650.000000</td>\n",
              "    </tr>\n",
              "    <tr>\n",
              "      <th>mean</th>\n",
              "      <td>1.197834</td>\n",
              "      <td>120.653739</td>\n",
              "      <td>19.990320</td>\n",
              "    </tr>\n",
              "    <tr>\n",
              "      <th>std</th>\n",
              "      <td>0.705124</td>\n",
              "      <td>183.633928</td>\n",
              "      <td>15.806405</td>\n",
              "    </tr>\n",
              "    <tr>\n",
              "      <th>min</th>\n",
              "      <td>1.000000</td>\n",
              "      <td>0.850000</td>\n",
              "      <td>0.000000</td>\n",
              "    </tr>\n",
              "    <tr>\n",
              "      <th>25%</th>\n",
              "      <td>1.000000</td>\n",
              "      <td>39.900000</td>\n",
              "      <td>13.080000</td>\n",
              "    </tr>\n",
              "    <tr>\n",
              "      <th>50%</th>\n",
              "      <td>1.000000</td>\n",
              "      <td>74.990000</td>\n",
              "      <td>16.260000</td>\n",
              "    </tr>\n",
              "    <tr>\n",
              "      <th>75%</th>\n",
              "      <td>1.000000</td>\n",
              "      <td>134.900000</td>\n",
              "      <td>21.150000</td>\n",
              "    </tr>\n",
              "    <tr>\n",
              "      <th>max</th>\n",
              "      <td>21.000000</td>\n",
              "      <td>6735.000000</td>\n",
              "      <td>409.680000</td>\n",
              "    </tr>\n",
              "  </tbody>\n",
              "</table>\n",
              "</div>"
            ],
            "text/plain": [
              "       order_item_id          price  freight_value\n",
              "count  112650.000000  112650.000000  112650.000000\n",
              "mean        1.197834     120.653739      19.990320\n",
              "std         0.705124     183.633928      15.806405\n",
              "min         1.000000       0.850000       0.000000\n",
              "25%         1.000000      39.900000      13.080000\n",
              "50%         1.000000      74.990000      16.260000\n",
              "75%         1.000000     134.900000      21.150000\n",
              "max        21.000000    6735.000000     409.680000"
            ]
          },
          "execution_count": 27,
          "metadata": {},
          "output_type": "execute_result"
        }
      ],
      "source": [
        "order_items_df.describe()"
      ]
    },
    {
      "cell_type": "markdown",
      "metadata": {},
      "source": [
        "Keanehan tabel order_items ada di kesalahan tipe data"
      ]
    },
    {
      "cell_type": "markdown",
      "metadata": {},
      "source": [
        "**Insight:**\n",
        "- Terdapat duplikasi data pada tabel geolocation_df\n",
        "- Terdapat missing values pada tabel products_df\n",
        "- Terdapat kesalahan tipe data pada tabel order_items_df"
      ]
    },
    {
      "cell_type": "markdown",
      "metadata": {
        "id": "sXU2GBYu8DC1"
      },
      "source": [
        "### Cleaning Data"
      ]
    },
    {
      "cell_type": "markdown",
      "metadata": {},
      "source": [
        "- Menghilangkan duplikasi data pada geolocation_df"
      ]
    },
    {
      "cell_type": "code",
      "execution_count": 28,
      "metadata": {},
      "outputs": [
        {
          "name": "stdout",
          "output_type": "stream",
          "text": [
            "Jumlah duplikasi:  0\n"
          ]
        }
      ],
      "source": [
        "geolocation_df.drop_duplicates(inplace=True)\n",
        "print(\"Jumlah duplikasi: \", customers_df.duplicated().sum())"
      ]
    },
    {
      "cell_type": "markdown",
      "metadata": {},
      "source": [
        "- Menangani missing values pada products_df"
      ]
    },
    {
      "cell_type": "code",
      "execution_count": 29,
      "metadata": {
        "id": "zjCBk1BI8DC1"
      },
      "outputs": [
        {
          "data": {
            "text/html": [
              "<div>\n",
              "<style scoped>\n",
              "    .dataframe tbody tr th:only-of-type {\n",
              "        vertical-align: middle;\n",
              "    }\n",
              "\n",
              "    .dataframe tbody tr th {\n",
              "        vertical-align: top;\n",
              "    }\n",
              "\n",
              "    .dataframe thead th {\n",
              "        text-align: right;\n",
              "    }\n",
              "</style>\n",
              "<table border=\"1\" class=\"dataframe\">\n",
              "  <thead>\n",
              "    <tr style=\"text-align: right;\">\n",
              "      <th></th>\n",
              "      <th>product_id</th>\n",
              "      <th>product_category_name</th>\n",
              "      <th>product_name_lenght</th>\n",
              "      <th>product_description_lenght</th>\n",
              "      <th>product_photos_qty</th>\n",
              "      <th>product_weight_g</th>\n",
              "      <th>product_length_cm</th>\n",
              "      <th>product_height_cm</th>\n",
              "      <th>product_width_cm</th>\n",
              "    </tr>\n",
              "  </thead>\n",
              "  <tbody>\n",
              "    <tr>\n",
              "      <th>105</th>\n",
              "      <td>a41e356c76fab66334f36de622ecbd3a</td>\n",
              "      <td>NaN</td>\n",
              "      <td>NaN</td>\n",
              "      <td>NaN</td>\n",
              "      <td>NaN</td>\n",
              "      <td>650.0</td>\n",
              "      <td>17.0</td>\n",
              "      <td>14.0</td>\n",
              "      <td>12.0</td>\n",
              "    </tr>\n",
              "    <tr>\n",
              "      <th>128</th>\n",
              "      <td>d8dee61c2034d6d075997acef1870e9b</td>\n",
              "      <td>NaN</td>\n",
              "      <td>NaN</td>\n",
              "      <td>NaN</td>\n",
              "      <td>NaN</td>\n",
              "      <td>300.0</td>\n",
              "      <td>16.0</td>\n",
              "      <td>7.0</td>\n",
              "      <td>20.0</td>\n",
              "    </tr>\n",
              "    <tr>\n",
              "      <th>145</th>\n",
              "      <td>56139431d72cd51f19eb9f7dae4d1617</td>\n",
              "      <td>NaN</td>\n",
              "      <td>NaN</td>\n",
              "      <td>NaN</td>\n",
              "      <td>NaN</td>\n",
              "      <td>200.0</td>\n",
              "      <td>20.0</td>\n",
              "      <td>20.0</td>\n",
              "      <td>20.0</td>\n",
              "    </tr>\n",
              "    <tr>\n",
              "      <th>154</th>\n",
              "      <td>46b48281eb6d663ced748f324108c733</td>\n",
              "      <td>NaN</td>\n",
              "      <td>NaN</td>\n",
              "      <td>NaN</td>\n",
              "      <td>NaN</td>\n",
              "      <td>18500.0</td>\n",
              "      <td>41.0</td>\n",
              "      <td>30.0</td>\n",
              "      <td>41.0</td>\n",
              "    </tr>\n",
              "    <tr>\n",
              "      <th>197</th>\n",
              "      <td>5fb61f482620cb672f5e586bb132eae9</td>\n",
              "      <td>NaN</td>\n",
              "      <td>NaN</td>\n",
              "      <td>NaN</td>\n",
              "      <td>NaN</td>\n",
              "      <td>300.0</td>\n",
              "      <td>35.0</td>\n",
              "      <td>7.0</td>\n",
              "      <td>12.0</td>\n",
              "    </tr>\n",
              "    <tr>\n",
              "      <th>...</th>\n",
              "      <td>...</td>\n",
              "      <td>...</td>\n",
              "      <td>...</td>\n",
              "      <td>...</td>\n",
              "      <td>...</td>\n",
              "      <td>...</td>\n",
              "      <td>...</td>\n",
              "      <td>...</td>\n",
              "      <td>...</td>\n",
              "    </tr>\n",
              "    <tr>\n",
              "      <th>32515</th>\n",
              "      <td>b0a0c5dd78e644373b199380612c350a</td>\n",
              "      <td>NaN</td>\n",
              "      <td>NaN</td>\n",
              "      <td>NaN</td>\n",
              "      <td>NaN</td>\n",
              "      <td>1800.0</td>\n",
              "      <td>30.0</td>\n",
              "      <td>20.0</td>\n",
              "      <td>70.0</td>\n",
              "    </tr>\n",
              "    <tr>\n",
              "      <th>32589</th>\n",
              "      <td>10dbe0fbaa2c505123c17fdc34a63c56</td>\n",
              "      <td>NaN</td>\n",
              "      <td>NaN</td>\n",
              "      <td>NaN</td>\n",
              "      <td>NaN</td>\n",
              "      <td>800.0</td>\n",
              "      <td>30.0</td>\n",
              "      <td>10.0</td>\n",
              "      <td>23.0</td>\n",
              "    </tr>\n",
              "    <tr>\n",
              "      <th>32616</th>\n",
              "      <td>bd2ada37b58ae94cc838b9c0569fecd8</td>\n",
              "      <td>NaN</td>\n",
              "      <td>NaN</td>\n",
              "      <td>NaN</td>\n",
              "      <td>NaN</td>\n",
              "      <td>200.0</td>\n",
              "      <td>21.0</td>\n",
              "      <td>8.0</td>\n",
              "      <td>16.0</td>\n",
              "    </tr>\n",
              "    <tr>\n",
              "      <th>32772</th>\n",
              "      <td>fa51e914046aab32764c41356b9d4ea4</td>\n",
              "      <td>NaN</td>\n",
              "      <td>NaN</td>\n",
              "      <td>NaN</td>\n",
              "      <td>NaN</td>\n",
              "      <td>1300.0</td>\n",
              "      <td>45.0</td>\n",
              "      <td>16.0</td>\n",
              "      <td>45.0</td>\n",
              "    </tr>\n",
              "    <tr>\n",
              "      <th>32852</th>\n",
              "      <td>c4ceee876c82b8328e9c293fa0e1989b</td>\n",
              "      <td>NaN</td>\n",
              "      <td>NaN</td>\n",
              "      <td>NaN</td>\n",
              "      <td>NaN</td>\n",
              "      <td>700.0</td>\n",
              "      <td>28.0</td>\n",
              "      <td>3.0</td>\n",
              "      <td>43.0</td>\n",
              "    </tr>\n",
              "  </tbody>\n",
              "</table>\n",
              "<p>610 rows × 9 columns</p>\n",
              "</div>"
            ],
            "text/plain": [
              "                             product_id product_category_name  \\\n",
              "105    a41e356c76fab66334f36de622ecbd3a                   NaN   \n",
              "128    d8dee61c2034d6d075997acef1870e9b                   NaN   \n",
              "145    56139431d72cd51f19eb9f7dae4d1617                   NaN   \n",
              "154    46b48281eb6d663ced748f324108c733                   NaN   \n",
              "197    5fb61f482620cb672f5e586bb132eae9                   NaN   \n",
              "...                                 ...                   ...   \n",
              "32515  b0a0c5dd78e644373b199380612c350a                   NaN   \n",
              "32589  10dbe0fbaa2c505123c17fdc34a63c56                   NaN   \n",
              "32616  bd2ada37b58ae94cc838b9c0569fecd8                   NaN   \n",
              "32772  fa51e914046aab32764c41356b9d4ea4                   NaN   \n",
              "32852  c4ceee876c82b8328e9c293fa0e1989b                   NaN   \n",
              "\n",
              "       product_name_lenght  product_description_lenght  product_photos_qty  \\\n",
              "105                    NaN                         NaN                 NaN   \n",
              "128                    NaN                         NaN                 NaN   \n",
              "145                    NaN                         NaN                 NaN   \n",
              "154                    NaN                         NaN                 NaN   \n",
              "197                    NaN                         NaN                 NaN   \n",
              "...                    ...                         ...                 ...   \n",
              "32515                  NaN                         NaN                 NaN   \n",
              "32589                  NaN                         NaN                 NaN   \n",
              "32616                  NaN                         NaN                 NaN   \n",
              "32772                  NaN                         NaN                 NaN   \n",
              "32852                  NaN                         NaN                 NaN   \n",
              "\n",
              "       product_weight_g  product_length_cm  product_height_cm  \\\n",
              "105               650.0               17.0               14.0   \n",
              "128               300.0               16.0                7.0   \n",
              "145               200.0               20.0               20.0   \n",
              "154             18500.0               41.0               30.0   \n",
              "197               300.0               35.0                7.0   \n",
              "...                 ...                ...                ...   \n",
              "32515            1800.0               30.0               20.0   \n",
              "32589             800.0               30.0               10.0   \n",
              "32616             200.0               21.0                8.0   \n",
              "32772            1300.0               45.0               16.0   \n",
              "32852             700.0               28.0                3.0   \n",
              "\n",
              "       product_width_cm  \n",
              "105                12.0  \n",
              "128                20.0  \n",
              "145                20.0  \n",
              "154                41.0  \n",
              "197                12.0  \n",
              "...                 ...  \n",
              "32515              70.0  \n",
              "32589              23.0  \n",
              "32616              16.0  \n",
              "32772              45.0  \n",
              "32852              43.0  \n",
              "\n",
              "[610 rows x 9 columns]"
            ]
          },
          "execution_count": 29,
          "metadata": {},
          "output_type": "execute_result"
        }
      ],
      "source": [
        "products_df[products_df.product_category_name.isna()]"
      ]
    },
    {
      "cell_type": "markdown",
      "metadata": {},
      "source": [
        "Karena kemungkinan kategori produk yang memiliki missing value digunakan oleh produk, maka kita akan mengisi missing value mengugnakan teknik imputation"
      ]
    },
    {
      "cell_type": "code",
      "execution_count": 35,
      "metadata": {},
      "outputs": [],
      "source": [
        "products_df['product_name_lenght'] = products_df['product_name_lenght'].fillna(products_df['product_name_lenght'].median())\n",
        "products_df['product_description_lenght'] = products_df['product_description_lenght'].fillna(products_df['product_description_lenght'].median())\n",
        "products_df['product_photos_qty'] = products_df['product_photos_qty'].fillna(products_df['product_photos_qty'].median())\n",
        "products_df['product_category_name'] = products_df['product_category_name'].fillna('Unknown')"
      ]
    },
    {
      "cell_type": "code",
      "execution_count": 37,
      "metadata": {},
      "outputs": [
        {
          "data": {
            "text/plain": [
              "product_id                    0\n",
              "product_category_name         0\n",
              "product_name_lenght           0\n",
              "product_description_lenght    0\n",
              "product_photos_qty            0\n",
              "product_weight_g              2\n",
              "product_length_cm             2\n",
              "product_height_cm             2\n",
              "product_width_cm              2\n",
              "dtype: int64"
            ]
          },
          "execution_count": 37,
          "metadata": {},
          "output_type": "execute_result"
        }
      ],
      "source": [
        "products_df.isna().sum()\n"
      ]
    },
    {
      "cell_type": "code",
      "execution_count": 38,
      "metadata": {},
      "outputs": [
        {
          "data": {
            "text/html": [
              "<div>\n",
              "<style scoped>\n",
              "    .dataframe tbody tr th:only-of-type {\n",
              "        vertical-align: middle;\n",
              "    }\n",
              "\n",
              "    .dataframe tbody tr th {\n",
              "        vertical-align: top;\n",
              "    }\n",
              "\n",
              "    .dataframe thead th {\n",
              "        text-align: right;\n",
              "    }\n",
              "</style>\n",
              "<table border=\"1\" class=\"dataframe\">\n",
              "  <thead>\n",
              "    <tr style=\"text-align: right;\">\n",
              "      <th></th>\n",
              "      <th>product_id</th>\n",
              "      <th>product_category_name</th>\n",
              "      <th>product_name_lenght</th>\n",
              "      <th>product_description_lenght</th>\n",
              "      <th>product_photos_qty</th>\n",
              "      <th>product_weight_g</th>\n",
              "      <th>product_length_cm</th>\n",
              "      <th>product_height_cm</th>\n",
              "      <th>product_width_cm</th>\n",
              "    </tr>\n",
              "  </thead>\n",
              "  <tbody>\n",
              "    <tr>\n",
              "      <th>8578</th>\n",
              "      <td>09ff539a621711667c43eba6a3bd8466</td>\n",
              "      <td>bebes</td>\n",
              "      <td>60.0</td>\n",
              "      <td>865.0</td>\n",
              "      <td>3.0</td>\n",
              "      <td>NaN</td>\n",
              "      <td>NaN</td>\n",
              "      <td>NaN</td>\n",
              "      <td>NaN</td>\n",
              "    </tr>\n",
              "    <tr>\n",
              "      <th>18851</th>\n",
              "      <td>5eb564652db742ff8f28759cd8d2652a</td>\n",
              "      <td>Unknown</td>\n",
              "      <td>51.0</td>\n",
              "      <td>595.0</td>\n",
              "      <td>1.0</td>\n",
              "      <td>NaN</td>\n",
              "      <td>NaN</td>\n",
              "      <td>NaN</td>\n",
              "      <td>NaN</td>\n",
              "    </tr>\n",
              "  </tbody>\n",
              "</table>\n",
              "</div>"
            ],
            "text/plain": [
              "                             product_id product_category_name  \\\n",
              "8578   09ff539a621711667c43eba6a3bd8466                 bebes   \n",
              "18851  5eb564652db742ff8f28759cd8d2652a               Unknown   \n",
              "\n",
              "       product_name_lenght  product_description_lenght  product_photos_qty  \\\n",
              "8578                  60.0                       865.0                 3.0   \n",
              "18851                 51.0                       595.0                 1.0   \n",
              "\n",
              "       product_weight_g  product_length_cm  product_height_cm  \\\n",
              "8578                NaN                NaN                NaN   \n",
              "18851               NaN                NaN                NaN   \n",
              "\n",
              "       product_width_cm  \n",
              "8578                NaN  \n",
              "18851               NaN  "
            ]
          },
          "execution_count": 38,
          "metadata": {},
          "output_type": "execute_result"
        }
      ],
      "source": [
        "products_df[products_df.product_length_cm.isna()]"
      ]
    },
    {
      "cell_type": "markdown",
      "metadata": {},
      "source": [
        "Untuk kolom product_weight_g, product_length_cm, product_height_cm, dan product_width_cm tidak relevan dengan pertanyaan bisnis, maka dapat didrop missing valuesnya"
      ]
    },
    {
      "cell_type": "code",
      "execution_count": 39,
      "metadata": {},
      "outputs": [],
      "source": [
        "products_df.dropna(subset=['product_weight_g', 'product_length_cm', 'product_height_cm', 'product_width_cm'], inplace=True)"
      ]
    },
    {
      "cell_type": "code",
      "execution_count": 40,
      "metadata": {},
      "outputs": [
        {
          "data": {
            "text/plain": [
              "product_id                    0\n",
              "product_category_name         0\n",
              "product_name_lenght           0\n",
              "product_description_lenght    0\n",
              "product_photos_qty            0\n",
              "product_weight_g              0\n",
              "product_length_cm             0\n",
              "product_height_cm             0\n",
              "product_width_cm              0\n",
              "dtype: int64"
            ]
          },
          "execution_count": 40,
          "metadata": {},
          "output_type": "execute_result"
        }
      ],
      "source": [
        "products_df.isna().sum()"
      ]
    },
    {
      "cell_type": "markdown",
      "metadata": {},
      "source": [
        "- Mengkoreksi tipe data pada tabel order_items_df"
      ]
    },
    {
      "cell_type": "code",
      "execution_count": 41,
      "metadata": {},
      "outputs": [
        {
          "name": "stdout",
          "output_type": "stream",
          "text": [
            "<class 'pandas.core.frame.DataFrame'>\n",
            "RangeIndex: 112650 entries, 0 to 112649\n",
            "Data columns (total 7 columns):\n",
            " #   Column               Non-Null Count   Dtype  \n",
            "---  ------               --------------   -----  \n",
            " 0   order_id             112650 non-null  object \n",
            " 1   order_item_id        112650 non-null  int64  \n",
            " 2   product_id           112650 non-null  object \n",
            " 3   seller_id            112650 non-null  object \n",
            " 4   shipping_limit_date  112650 non-null  object \n",
            " 5   price                112650 non-null  float64\n",
            " 6   freight_value        112650 non-null  float64\n",
            "dtypes: float64(2), int64(1), object(4)\n",
            "memory usage: 6.0+ MB\n"
          ]
        }
      ],
      "source": [
        "order_items_df.info()"
      ]
    },
    {
      "cell_type": "code",
      "execution_count": 43,
      "metadata": {},
      "outputs": [
        {
          "name": "stdout",
          "output_type": "stream",
          "text": [
            "<class 'pandas.core.frame.DataFrame'>\n",
            "RangeIndex: 112650 entries, 0 to 112649\n",
            "Data columns (total 7 columns):\n",
            " #   Column               Non-Null Count   Dtype         \n",
            "---  ------               --------------   -----         \n",
            " 0   order_id             112650 non-null  object        \n",
            " 1   order_item_id        112650 non-null  int64         \n",
            " 2   product_id           112650 non-null  object        \n",
            " 3   seller_id            112650 non-null  object        \n",
            " 4   shipping_limit_date  112650 non-null  datetime64[ns]\n",
            " 5   price                112650 non-null  float64       \n",
            " 6   freight_value        112650 non-null  float64       \n",
            "dtypes: datetime64[ns](1), float64(2), int64(1), object(3)\n",
            "memory usage: 6.0+ MB\n"
          ]
        }
      ],
      "source": [
        "order_items_df[\"shipping_limit_date\"] = pd.to_datetime(order_items_df[\"shipping_limit_date\"])\n",
        "order_items_df.info()"
      ]
    },
    {
      "cell_type": "markdown",
      "metadata": {
        "id": "Q_5ejIqckiSP"
      },
      "source": [
        "**Insight:**\n",
        "- Berhasil membenarkan tipe data ke datetime pada order_items_df\n",
        "- Berhasil menghilangkan missing values pada products_df\n",
        "- Berhasil menghilangkan duplikasi pada geolocation_df"
      ]
    },
    {
      "cell_type": "markdown",
      "metadata": {
        "id": "gp-Y6wU38DC1"
      },
      "source": [
        "## Exploratory Data Analysis (EDA)"
      ]
    },
    {
      "cell_type": "markdown",
      "metadata": {
        "id": "MW7WF2kr8DC1"
      },
      "source": [
        "### Explore customers_df"
      ]
    },
    {
      "cell_type": "code",
      "execution_count": 88,
      "metadata": {
        "id": "e9CQCZjk8DC2"
      },
      "outputs": [
        {
          "data": {
            "text/html": [
              "<div>\n",
              "<style scoped>\n",
              "    .dataframe tbody tr th:only-of-type {\n",
              "        vertical-align: middle;\n",
              "    }\n",
              "\n",
              "    .dataframe tbody tr th {\n",
              "        vertical-align: top;\n",
              "    }\n",
              "\n",
              "    .dataframe thead th {\n",
              "        text-align: right;\n",
              "    }\n",
              "</style>\n",
              "<table border=\"1\" class=\"dataframe\">\n",
              "  <thead>\n",
              "    <tr style=\"text-align: right;\">\n",
              "      <th></th>\n",
              "      <th>customer_id</th>\n",
              "      <th>customer_unique_id</th>\n",
              "      <th>customer_zip_code_prefix</th>\n",
              "      <th>customer_city</th>\n",
              "      <th>customer_state</th>\n",
              "    </tr>\n",
              "  </thead>\n",
              "  <tbody>\n",
              "    <tr>\n",
              "      <th>count</th>\n",
              "      <td>99441</td>\n",
              "      <td>99441</td>\n",
              "      <td>99441.000000</td>\n",
              "      <td>99441</td>\n",
              "      <td>99441</td>\n",
              "    </tr>\n",
              "    <tr>\n",
              "      <th>unique</th>\n",
              "      <td>99441</td>\n",
              "      <td>96096</td>\n",
              "      <td>NaN</td>\n",
              "      <td>4119</td>\n",
              "      <td>27</td>\n",
              "    </tr>\n",
              "    <tr>\n",
              "      <th>top</th>\n",
              "      <td>06b8999e2fba1a1fbc88172c00ba8bc7</td>\n",
              "      <td>8d50f5eadf50201ccdcedfb9e2ac8455</td>\n",
              "      <td>NaN</td>\n",
              "      <td>sao paulo</td>\n",
              "      <td>SP</td>\n",
              "    </tr>\n",
              "    <tr>\n",
              "      <th>freq</th>\n",
              "      <td>1</td>\n",
              "      <td>17</td>\n",
              "      <td>NaN</td>\n",
              "      <td>15540</td>\n",
              "      <td>41746</td>\n",
              "    </tr>\n",
              "    <tr>\n",
              "      <th>mean</th>\n",
              "      <td>NaN</td>\n",
              "      <td>NaN</td>\n",
              "      <td>35137.474583</td>\n",
              "      <td>NaN</td>\n",
              "      <td>NaN</td>\n",
              "    </tr>\n",
              "    <tr>\n",
              "      <th>std</th>\n",
              "      <td>NaN</td>\n",
              "      <td>NaN</td>\n",
              "      <td>29797.938996</td>\n",
              "      <td>NaN</td>\n",
              "      <td>NaN</td>\n",
              "    </tr>\n",
              "    <tr>\n",
              "      <th>min</th>\n",
              "      <td>NaN</td>\n",
              "      <td>NaN</td>\n",
              "      <td>1003.000000</td>\n",
              "      <td>NaN</td>\n",
              "      <td>NaN</td>\n",
              "    </tr>\n",
              "    <tr>\n",
              "      <th>25%</th>\n",
              "      <td>NaN</td>\n",
              "      <td>NaN</td>\n",
              "      <td>11347.000000</td>\n",
              "      <td>NaN</td>\n",
              "      <td>NaN</td>\n",
              "    </tr>\n",
              "    <tr>\n",
              "      <th>50%</th>\n",
              "      <td>NaN</td>\n",
              "      <td>NaN</td>\n",
              "      <td>24416.000000</td>\n",
              "      <td>NaN</td>\n",
              "      <td>NaN</td>\n",
              "    </tr>\n",
              "    <tr>\n",
              "      <th>75%</th>\n",
              "      <td>NaN</td>\n",
              "      <td>NaN</td>\n",
              "      <td>58900.000000</td>\n",
              "      <td>NaN</td>\n",
              "      <td>NaN</td>\n",
              "    </tr>\n",
              "    <tr>\n",
              "      <th>max</th>\n",
              "      <td>NaN</td>\n",
              "      <td>NaN</td>\n",
              "      <td>99990.000000</td>\n",
              "      <td>NaN</td>\n",
              "      <td>NaN</td>\n",
              "    </tr>\n",
              "  </tbody>\n",
              "</table>\n",
              "</div>"
            ],
            "text/plain": [
              "                             customer_id                customer_unique_id  \\\n",
              "count                              99441                             99441   \n",
              "unique                             99441                             96096   \n",
              "top     06b8999e2fba1a1fbc88172c00ba8bc7  8d50f5eadf50201ccdcedfb9e2ac8455   \n",
              "freq                                   1                                17   \n",
              "mean                                 NaN                               NaN   \n",
              "std                                  NaN                               NaN   \n",
              "min                                  NaN                               NaN   \n",
              "25%                                  NaN                               NaN   \n",
              "50%                                  NaN                               NaN   \n",
              "75%                                  NaN                               NaN   \n",
              "max                                  NaN                               NaN   \n",
              "\n",
              "        customer_zip_code_prefix customer_city customer_state  \n",
              "count               99441.000000         99441          99441  \n",
              "unique                       NaN          4119             27  \n",
              "top                          NaN     sao paulo             SP  \n",
              "freq                         NaN         15540          41746  \n",
              "mean                35137.474583           NaN            NaN  \n",
              "std                 29797.938996           NaN            NaN  \n",
              "min                  1003.000000           NaN            NaN  \n",
              "25%                 11347.000000           NaN            NaN  \n",
              "50%                 24416.000000           NaN            NaN  \n",
              "75%                 58900.000000           NaN            NaN  \n",
              "max                 99990.000000           NaN            NaN  "
            ]
          },
          "execution_count": 88,
          "metadata": {},
          "output_type": "execute_result"
        }
      ],
      "source": [
        "customers_df.describe(include=\"all\")"
      ]
    },
    {
      "cell_type": "markdown",
      "metadata": {},
      "source": [
        "- Terdapat 99441 pelanggan yang menunjukkan dataset cukup besar.\n",
        "- Kota dengan frekuensi terbanyak adalah Sao Paulo dengan 15,540 entri yang menunjukkan kota ini memiliki banyak pelanggan\n",
        "- Rentang customer_zip_code_prefix dari 1003 hingga 99990 menunjukkan distribusi geografis yang luas\n",
        "- Ada perbedaan besar antara 25% (11,347) dan 75% (58,900), yang menunjukkan bahwa ada beberapa pelanggan di area dengan kode pos yang jauh lebih tinggi, sehingga ada ketidaksamaan dalam distribusi geografis.\n"
      ]
    },
    {
      "cell_type": "markdown",
      "metadata": {},
      "source": [
        "### Explore seller_df"
      ]
    },
    {
      "cell_type": "code",
      "execution_count": 89,
      "metadata": {},
      "outputs": [
        {
          "data": {
            "text/html": [
              "<div>\n",
              "<style scoped>\n",
              "    .dataframe tbody tr th:only-of-type {\n",
              "        vertical-align: middle;\n",
              "    }\n",
              "\n",
              "    .dataframe tbody tr th {\n",
              "        vertical-align: top;\n",
              "    }\n",
              "\n",
              "    .dataframe thead th {\n",
              "        text-align: right;\n",
              "    }\n",
              "</style>\n",
              "<table border=\"1\" class=\"dataframe\">\n",
              "  <thead>\n",
              "    <tr style=\"text-align: right;\">\n",
              "      <th></th>\n",
              "      <th>seller_id</th>\n",
              "      <th>seller_zip_code_prefix</th>\n",
              "      <th>seller_city</th>\n",
              "      <th>seller_state</th>\n",
              "    </tr>\n",
              "  </thead>\n",
              "  <tbody>\n",
              "    <tr>\n",
              "      <th>count</th>\n",
              "      <td>3095</td>\n",
              "      <td>3095.000000</td>\n",
              "      <td>3095</td>\n",
              "      <td>3095</td>\n",
              "    </tr>\n",
              "    <tr>\n",
              "      <th>unique</th>\n",
              "      <td>3095</td>\n",
              "      <td>NaN</td>\n",
              "      <td>611</td>\n",
              "      <td>23</td>\n",
              "    </tr>\n",
              "    <tr>\n",
              "      <th>top</th>\n",
              "      <td>3442f8959a84dea7ee197c632cb2df15</td>\n",
              "      <td>NaN</td>\n",
              "      <td>sao paulo</td>\n",
              "      <td>SP</td>\n",
              "    </tr>\n",
              "    <tr>\n",
              "      <th>freq</th>\n",
              "      <td>1</td>\n",
              "      <td>NaN</td>\n",
              "      <td>694</td>\n",
              "      <td>1849</td>\n",
              "    </tr>\n",
              "    <tr>\n",
              "      <th>mean</th>\n",
              "      <td>NaN</td>\n",
              "      <td>32291.059451</td>\n",
              "      <td>NaN</td>\n",
              "      <td>NaN</td>\n",
              "    </tr>\n",
              "    <tr>\n",
              "      <th>std</th>\n",
              "      <td>NaN</td>\n",
              "      <td>32713.453830</td>\n",
              "      <td>NaN</td>\n",
              "      <td>NaN</td>\n",
              "    </tr>\n",
              "    <tr>\n",
              "      <th>min</th>\n",
              "      <td>NaN</td>\n",
              "      <td>1001.000000</td>\n",
              "      <td>NaN</td>\n",
              "      <td>NaN</td>\n",
              "    </tr>\n",
              "    <tr>\n",
              "      <th>25%</th>\n",
              "      <td>NaN</td>\n",
              "      <td>7093.500000</td>\n",
              "      <td>NaN</td>\n",
              "      <td>NaN</td>\n",
              "    </tr>\n",
              "    <tr>\n",
              "      <th>50%</th>\n",
              "      <td>NaN</td>\n",
              "      <td>14940.000000</td>\n",
              "      <td>NaN</td>\n",
              "      <td>NaN</td>\n",
              "    </tr>\n",
              "    <tr>\n",
              "      <th>75%</th>\n",
              "      <td>NaN</td>\n",
              "      <td>64552.500000</td>\n",
              "      <td>NaN</td>\n",
              "      <td>NaN</td>\n",
              "    </tr>\n",
              "    <tr>\n",
              "      <th>max</th>\n",
              "      <td>NaN</td>\n",
              "      <td>99730.000000</td>\n",
              "      <td>NaN</td>\n",
              "      <td>NaN</td>\n",
              "    </tr>\n",
              "  </tbody>\n",
              "</table>\n",
              "</div>"
            ],
            "text/plain": [
              "                               seller_id  seller_zip_code_prefix seller_city  \\\n",
              "count                               3095             3095.000000        3095   \n",
              "unique                              3095                     NaN         611   \n",
              "top     3442f8959a84dea7ee197c632cb2df15                     NaN   sao paulo   \n",
              "freq                                   1                     NaN         694   \n",
              "mean                                 NaN            32291.059451         NaN   \n",
              "std                                  NaN            32713.453830         NaN   \n",
              "min                                  NaN             1001.000000         NaN   \n",
              "25%                                  NaN             7093.500000         NaN   \n",
              "50%                                  NaN            14940.000000         NaN   \n",
              "75%                                  NaN            64552.500000         NaN   \n",
              "max                                  NaN            99730.000000         NaN   \n",
              "\n",
              "       seller_state  \n",
              "count          3095  \n",
              "unique           23  \n",
              "top              SP  \n",
              "freq           1849  \n",
              "mean            NaN  \n",
              "std             NaN  \n",
              "min             NaN  \n",
              "25%             NaN  \n",
              "50%             NaN  \n",
              "75%             NaN  \n",
              "max             NaN  "
            ]
          },
          "execution_count": 89,
          "metadata": {},
          "output_type": "execute_result"
        }
      ],
      "source": [
        "seller_df.describe(include=\"all\")"
      ]
    },
    {
      "cell_type": "markdown",
      "metadata": {},
      "source": [
        "- Ada 611 kota berbeda yang menunjukkan bahwa penjual tersebar di berbagai kota\n",
        "- Kota yang paling sering muncul adalah Sao Paulo yaitu muncul sebanyak 694 kali"
      ]
    },
    {
      "cell_type": "markdown",
      "metadata": {},
      "source": [
        "### Explore geolocation_df"
      ]
    },
    {
      "cell_type": "code",
      "execution_count": 90,
      "metadata": {},
      "outputs": [
        {
          "data": {
            "text/html": [
              "<div>\n",
              "<style scoped>\n",
              "    .dataframe tbody tr th:only-of-type {\n",
              "        vertical-align: middle;\n",
              "    }\n",
              "\n",
              "    .dataframe tbody tr th {\n",
              "        vertical-align: top;\n",
              "    }\n",
              "\n",
              "    .dataframe thead th {\n",
              "        text-align: right;\n",
              "    }\n",
              "</style>\n",
              "<table border=\"1\" class=\"dataframe\">\n",
              "  <thead>\n",
              "    <tr style=\"text-align: right;\">\n",
              "      <th></th>\n",
              "      <th>geolocation_zip_code_prefix</th>\n",
              "      <th>geolocation_lat</th>\n",
              "      <th>geolocation_lng</th>\n",
              "      <th>geolocation_city</th>\n",
              "      <th>geolocation_state</th>\n",
              "    </tr>\n",
              "  </thead>\n",
              "  <tbody>\n",
              "    <tr>\n",
              "      <th>count</th>\n",
              "      <td>1.000163e+06</td>\n",
              "      <td>1.000163e+06</td>\n",
              "      <td>1.000163e+06</td>\n",
              "      <td>1000163</td>\n",
              "      <td>1000163</td>\n",
              "    </tr>\n",
              "    <tr>\n",
              "      <th>unique</th>\n",
              "      <td>NaN</td>\n",
              "      <td>NaN</td>\n",
              "      <td>NaN</td>\n",
              "      <td>8011</td>\n",
              "      <td>27</td>\n",
              "    </tr>\n",
              "    <tr>\n",
              "      <th>top</th>\n",
              "      <td>NaN</td>\n",
              "      <td>NaN</td>\n",
              "      <td>NaN</td>\n",
              "      <td>sao paulo</td>\n",
              "      <td>SP</td>\n",
              "    </tr>\n",
              "    <tr>\n",
              "      <th>freq</th>\n",
              "      <td>NaN</td>\n",
              "      <td>NaN</td>\n",
              "      <td>NaN</td>\n",
              "      <td>135800</td>\n",
              "      <td>404268</td>\n",
              "    </tr>\n",
              "    <tr>\n",
              "      <th>mean</th>\n",
              "      <td>3.657417e+04</td>\n",
              "      <td>-2.117615e+01</td>\n",
              "      <td>-4.639054e+01</td>\n",
              "      <td>NaN</td>\n",
              "      <td>NaN</td>\n",
              "    </tr>\n",
              "    <tr>\n",
              "      <th>std</th>\n",
              "      <td>3.054934e+04</td>\n",
              "      <td>5.715866e+00</td>\n",
              "      <td>4.269748e+00</td>\n",
              "      <td>NaN</td>\n",
              "      <td>NaN</td>\n",
              "    </tr>\n",
              "    <tr>\n",
              "      <th>min</th>\n",
              "      <td>1.001000e+03</td>\n",
              "      <td>-3.660537e+01</td>\n",
              "      <td>-1.014668e+02</td>\n",
              "      <td>NaN</td>\n",
              "      <td>NaN</td>\n",
              "    </tr>\n",
              "    <tr>\n",
              "      <th>25%</th>\n",
              "      <td>1.107500e+04</td>\n",
              "      <td>-2.360355e+01</td>\n",
              "      <td>-4.857317e+01</td>\n",
              "      <td>NaN</td>\n",
              "      <td>NaN</td>\n",
              "    </tr>\n",
              "    <tr>\n",
              "      <th>50%</th>\n",
              "      <td>2.653000e+04</td>\n",
              "      <td>-2.291938e+01</td>\n",
              "      <td>-4.663788e+01</td>\n",
              "      <td>NaN</td>\n",
              "      <td>NaN</td>\n",
              "    </tr>\n",
              "    <tr>\n",
              "      <th>75%</th>\n",
              "      <td>6.350400e+04</td>\n",
              "      <td>-1.997962e+01</td>\n",
              "      <td>-4.376771e+01</td>\n",
              "      <td>NaN</td>\n",
              "      <td>NaN</td>\n",
              "    </tr>\n",
              "    <tr>\n",
              "      <th>max</th>\n",
              "      <td>9.999000e+04</td>\n",
              "      <td>4.506593e+01</td>\n",
              "      <td>1.211054e+02</td>\n",
              "      <td>NaN</td>\n",
              "      <td>NaN</td>\n",
              "    </tr>\n",
              "  </tbody>\n",
              "</table>\n",
              "</div>"
            ],
            "text/plain": [
              "        geolocation_zip_code_prefix  geolocation_lat  geolocation_lng  \\\n",
              "count                  1.000163e+06     1.000163e+06     1.000163e+06   \n",
              "unique                          NaN              NaN              NaN   \n",
              "top                             NaN              NaN              NaN   \n",
              "freq                            NaN              NaN              NaN   \n",
              "mean                   3.657417e+04    -2.117615e+01    -4.639054e+01   \n",
              "std                    3.054934e+04     5.715866e+00     4.269748e+00   \n",
              "min                    1.001000e+03    -3.660537e+01    -1.014668e+02   \n",
              "25%                    1.107500e+04    -2.360355e+01    -4.857317e+01   \n",
              "50%                    2.653000e+04    -2.291938e+01    -4.663788e+01   \n",
              "75%                    6.350400e+04    -1.997962e+01    -4.376771e+01   \n",
              "max                    9.999000e+04     4.506593e+01     1.211054e+02   \n",
              "\n",
              "       geolocation_city geolocation_state  \n",
              "count           1000163           1000163  \n",
              "unique             8011                27  \n",
              "top           sao paulo                SP  \n",
              "freq             135800            404268  \n",
              "mean                NaN               NaN  \n",
              "std                 NaN               NaN  \n",
              "min                 NaN               NaN  \n",
              "25%                 NaN               NaN  \n",
              "50%                 NaN               NaN  \n",
              "75%                 NaN               NaN  \n",
              "max                 NaN               NaN  "
            ]
          },
          "execution_count": 90,
          "metadata": {},
          "output_type": "execute_result"
        }
      ],
      "source": [
        "geolocation_df.describe(include=\"all\")"
      ]
    },
    {
      "cell_type": "markdown",
      "metadata": {},
      "source": [
        "- Dataset mencakup 27 negara bagian, dengan negara bagian SP (Sao Paulo) menjadi yang paling banyak muncul dengan 404,268 entri yang menunjukkan bahwa banyak lokasi dalam dataset berasal dari Sao Paulo.\n",
        "- Terdapat 8,011 kota unik yang menunjukkan keragaman lokasi yang terdapat dalam dataset. Hal ini menunjukkan bahwa data mencakup banyak area di Brasil.\n",
        "- geolocation_lat (latitude) memiliki nilai rata-rata sekitar -21.17615, yang menunjukkan bahwa sebagian besar lokasi berada di belahan bumi selatan.\n",
        "- geolocation_lng (longitude) memiliki nilai rata-rata sekitar -46.39054, yang menunjukkan bahwa data sebagian besar terdistribusi di bagian timur Brasil."
      ]
    },
    {
      "cell_type": "markdown",
      "metadata": {},
      "source": [
        "### Explore order_items_df"
      ]
    },
    {
      "cell_type": "code",
      "execution_count": 92,
      "metadata": {},
      "outputs": [
        {
          "data": {
            "text/html": [
              "<div>\n",
              "<style scoped>\n",
              "    .dataframe tbody tr th:only-of-type {\n",
              "        vertical-align: middle;\n",
              "    }\n",
              "\n",
              "    .dataframe tbody tr th {\n",
              "        vertical-align: top;\n",
              "    }\n",
              "\n",
              "    .dataframe thead th {\n",
              "        text-align: right;\n",
              "    }\n",
              "</style>\n",
              "<table border=\"1\" class=\"dataframe\">\n",
              "  <thead>\n",
              "    <tr style=\"text-align: right;\">\n",
              "      <th></th>\n",
              "      <th>order_id</th>\n",
              "      <th>order_item_id</th>\n",
              "      <th>product_id</th>\n",
              "      <th>seller_id</th>\n",
              "      <th>shipping_limit_date</th>\n",
              "      <th>price</th>\n",
              "      <th>freight_value</th>\n",
              "    </tr>\n",
              "  </thead>\n",
              "  <tbody>\n",
              "    <tr>\n",
              "      <th>count</th>\n",
              "      <td>112650</td>\n",
              "      <td>112650.000000</td>\n",
              "      <td>112650</td>\n",
              "      <td>112650</td>\n",
              "      <td>112650</td>\n",
              "      <td>112650.000000</td>\n",
              "      <td>112650.000000</td>\n",
              "    </tr>\n",
              "    <tr>\n",
              "      <th>unique</th>\n",
              "      <td>98666</td>\n",
              "      <td>NaN</td>\n",
              "      <td>32951</td>\n",
              "      <td>3095</td>\n",
              "      <td>NaN</td>\n",
              "      <td>NaN</td>\n",
              "      <td>NaN</td>\n",
              "    </tr>\n",
              "    <tr>\n",
              "      <th>top</th>\n",
              "      <td>8272b63d03f5f79c56e9e4120aec44ef</td>\n",
              "      <td>NaN</td>\n",
              "      <td>aca2eb7d00ea1a7b8ebd4e68314663af</td>\n",
              "      <td>6560211a19b47992c3666cc44a7e94c0</td>\n",
              "      <td>NaN</td>\n",
              "      <td>NaN</td>\n",
              "      <td>NaN</td>\n",
              "    </tr>\n",
              "    <tr>\n",
              "      <th>freq</th>\n",
              "      <td>21</td>\n",
              "      <td>NaN</td>\n",
              "      <td>527</td>\n",
              "      <td>2033</td>\n",
              "      <td>NaN</td>\n",
              "      <td>NaN</td>\n",
              "      <td>NaN</td>\n",
              "    </tr>\n",
              "    <tr>\n",
              "      <th>mean</th>\n",
              "      <td>NaN</td>\n",
              "      <td>1.197834</td>\n",
              "      <td>NaN</td>\n",
              "      <td>NaN</td>\n",
              "      <td>2018-01-07 15:36:52.192685312</td>\n",
              "      <td>120.653739</td>\n",
              "      <td>19.990320</td>\n",
              "    </tr>\n",
              "    <tr>\n",
              "      <th>min</th>\n",
              "      <td>NaN</td>\n",
              "      <td>1.000000</td>\n",
              "      <td>NaN</td>\n",
              "      <td>NaN</td>\n",
              "      <td>2016-09-19 00:15:34</td>\n",
              "      <td>0.850000</td>\n",
              "      <td>0.000000</td>\n",
              "    </tr>\n",
              "    <tr>\n",
              "      <th>25%</th>\n",
              "      <td>NaN</td>\n",
              "      <td>1.000000</td>\n",
              "      <td>NaN</td>\n",
              "      <td>NaN</td>\n",
              "      <td>2017-09-20 20:57:27.500000</td>\n",
              "      <td>39.900000</td>\n",
              "      <td>13.080000</td>\n",
              "    </tr>\n",
              "    <tr>\n",
              "      <th>50%</th>\n",
              "      <td>NaN</td>\n",
              "      <td>1.000000</td>\n",
              "      <td>NaN</td>\n",
              "      <td>NaN</td>\n",
              "      <td>2018-01-26 13:59:35</td>\n",
              "      <td>74.990000</td>\n",
              "      <td>16.260000</td>\n",
              "    </tr>\n",
              "    <tr>\n",
              "      <th>75%</th>\n",
              "      <td>NaN</td>\n",
              "      <td>1.000000</td>\n",
              "      <td>NaN</td>\n",
              "      <td>NaN</td>\n",
              "      <td>2018-05-10 14:34:00.750000128</td>\n",
              "      <td>134.900000</td>\n",
              "      <td>21.150000</td>\n",
              "    </tr>\n",
              "    <tr>\n",
              "      <th>max</th>\n",
              "      <td>NaN</td>\n",
              "      <td>21.000000</td>\n",
              "      <td>NaN</td>\n",
              "      <td>NaN</td>\n",
              "      <td>2020-04-09 22:35:08</td>\n",
              "      <td>6735.000000</td>\n",
              "      <td>409.680000</td>\n",
              "    </tr>\n",
              "    <tr>\n",
              "      <th>std</th>\n",
              "      <td>NaN</td>\n",
              "      <td>0.705124</td>\n",
              "      <td>NaN</td>\n",
              "      <td>NaN</td>\n",
              "      <td>NaN</td>\n",
              "      <td>183.633928</td>\n",
              "      <td>15.806405</td>\n",
              "    </tr>\n",
              "  </tbody>\n",
              "</table>\n",
              "</div>"
            ],
            "text/plain": [
              "                                order_id  order_item_id  \\\n",
              "count                             112650  112650.000000   \n",
              "unique                             98666            NaN   \n",
              "top     8272b63d03f5f79c56e9e4120aec44ef            NaN   \n",
              "freq                                  21            NaN   \n",
              "mean                                 NaN       1.197834   \n",
              "min                                  NaN       1.000000   \n",
              "25%                                  NaN       1.000000   \n",
              "50%                                  NaN       1.000000   \n",
              "75%                                  NaN       1.000000   \n",
              "max                                  NaN      21.000000   \n",
              "std                                  NaN       0.705124   \n",
              "\n",
              "                              product_id                         seller_id  \\\n",
              "count                             112650                            112650   \n",
              "unique                             32951                              3095   \n",
              "top     aca2eb7d00ea1a7b8ebd4e68314663af  6560211a19b47992c3666cc44a7e94c0   \n",
              "freq                                 527                              2033   \n",
              "mean                                 NaN                               NaN   \n",
              "min                                  NaN                               NaN   \n",
              "25%                                  NaN                               NaN   \n",
              "50%                                  NaN                               NaN   \n",
              "75%                                  NaN                               NaN   \n",
              "max                                  NaN                               NaN   \n",
              "std                                  NaN                               NaN   \n",
              "\n",
              "                  shipping_limit_date          price  freight_value  \n",
              "count                          112650  112650.000000  112650.000000  \n",
              "unique                            NaN            NaN            NaN  \n",
              "top                               NaN            NaN            NaN  \n",
              "freq                              NaN            NaN            NaN  \n",
              "mean    2018-01-07 15:36:52.192685312     120.653739      19.990320  \n",
              "min               2016-09-19 00:15:34       0.850000       0.000000  \n",
              "25%        2017-09-20 20:57:27.500000      39.900000      13.080000  \n",
              "50%               2018-01-26 13:59:35      74.990000      16.260000  \n",
              "75%     2018-05-10 14:34:00.750000128     134.900000      21.150000  \n",
              "max               2020-04-09 22:35:08    6735.000000     409.680000  \n",
              "std                               NaN     183.633928      15.806405  "
            ]
          },
          "execution_count": 92,
          "metadata": {},
          "output_type": "execute_result"
        }
      ],
      "source": [
        "order_items_df.describe(include=\"all\")"
      ]
    },
    {
      "cell_type": "markdown",
      "metadata": {},
      "source": [
        "- Produk dengan ID yang paling sering muncul dalam pesanan adalah aca2eb7d00ea1a7b8ebd4e68314663af dengan total 527 kali muncul.\n",
        "- Penjual dengan ID 6560211a19b47992c3666cc44a7e94c0 adalah yang paling banyak terlibat, dengan total 2,033 pesanan.\n",
        "- Rata-rata harga produk 120.65, dengan harga minimum 0.85 dan maksimum 6,735. Ini menunjukkan bahwa ada produk dengan harga sangat murah hingga sangat mahal.\n",
        "- Rata-rata biaya pengiriman adalah 19.99 dengan biaya minimum 0.00 dan maksimum 409.68. Ada produk yang mungkin mendapatkan pengiriman gratis."
      ]
    },
    {
      "cell_type": "code",
      "execution_count": 94,
      "metadata": {},
      "outputs": [
        {
          "name": "stdout",
          "output_type": "stream",
          "text": [
            "Jumlah produk yang mendapatkan pengiriman gratis: 10 produk.\n"
          ]
        }
      ],
      "source": [
        "free_shipping_products = order_items_df[order_items_df['freight_value'] == 0]['product_id'].unique()\n",
        "print(f\"Jumlah produk yang mendapatkan pengiriman gratis: {len(free_shipping_products)} produk.\")"
      ]
    },
    {
      "cell_type": "markdown",
      "metadata": {},
      "source": [
        "### Explore products_df"
      ]
    },
    {
      "cell_type": "code",
      "execution_count": 93,
      "metadata": {},
      "outputs": [
        {
          "data": {
            "text/html": [
              "<div>\n",
              "<style scoped>\n",
              "    .dataframe tbody tr th:only-of-type {\n",
              "        vertical-align: middle;\n",
              "    }\n",
              "\n",
              "    .dataframe tbody tr th {\n",
              "        vertical-align: top;\n",
              "    }\n",
              "\n",
              "    .dataframe thead th {\n",
              "        text-align: right;\n",
              "    }\n",
              "</style>\n",
              "<table border=\"1\" class=\"dataframe\">\n",
              "  <thead>\n",
              "    <tr style=\"text-align: right;\">\n",
              "      <th></th>\n",
              "      <th>product_id</th>\n",
              "      <th>product_category_name</th>\n",
              "      <th>product_name_lenght</th>\n",
              "      <th>product_description_lenght</th>\n",
              "      <th>product_photos_qty</th>\n",
              "      <th>product_weight_g</th>\n",
              "      <th>product_length_cm</th>\n",
              "      <th>product_height_cm</th>\n",
              "      <th>product_width_cm</th>\n",
              "    </tr>\n",
              "  </thead>\n",
              "  <tbody>\n",
              "    <tr>\n",
              "      <th>count</th>\n",
              "      <td>32949</td>\n",
              "      <td>32949</td>\n",
              "      <td>32949.000000</td>\n",
              "      <td>32949.000000</td>\n",
              "      <td>32949.000000</td>\n",
              "      <td>32949.000000</td>\n",
              "      <td>32949.000000</td>\n",
              "      <td>32949.000000</td>\n",
              "      <td>32949.000000</td>\n",
              "    </tr>\n",
              "    <tr>\n",
              "      <th>unique</th>\n",
              "      <td>32949</td>\n",
              "      <td>74</td>\n",
              "      <td>NaN</td>\n",
              "      <td>NaN</td>\n",
              "      <td>NaN</td>\n",
              "      <td>NaN</td>\n",
              "      <td>NaN</td>\n",
              "      <td>NaN</td>\n",
              "      <td>NaN</td>\n",
              "    </tr>\n",
              "    <tr>\n",
              "      <th>top</th>\n",
              "      <td>1e9e8ef04dbcff4541ed26657ea517e5</td>\n",
              "      <td>cama_mesa_banho</td>\n",
              "      <td>NaN</td>\n",
              "      <td>NaN</td>\n",
              "      <td>NaN</td>\n",
              "      <td>NaN</td>\n",
              "      <td>NaN</td>\n",
              "      <td>NaN</td>\n",
              "      <td>NaN</td>\n",
              "    </tr>\n",
              "    <tr>\n",
              "      <th>freq</th>\n",
              "      <td>1</td>\n",
              "      <td>3029</td>\n",
              "      <td>NaN</td>\n",
              "      <td>NaN</td>\n",
              "      <td>NaN</td>\n",
              "      <td>NaN</td>\n",
              "      <td>NaN</td>\n",
              "      <td>NaN</td>\n",
              "      <td>NaN</td>\n",
              "    </tr>\n",
              "    <tr>\n",
              "      <th>mean</th>\n",
              "      <td>NaN</td>\n",
              "      <td>NaN</td>\n",
              "      <td>48.523233</td>\n",
              "      <td>768.230265</td>\n",
              "      <td>2.166985</td>\n",
              "      <td>2276.472488</td>\n",
              "      <td>30.815078</td>\n",
              "      <td>16.937661</td>\n",
              "      <td>23.196728</td>\n",
              "    </tr>\n",
              "    <tr>\n",
              "      <th>std</th>\n",
              "      <td>NaN</td>\n",
              "      <td>NaN</td>\n",
              "      <td>10.156257</td>\n",
              "      <td>629.676630</td>\n",
              "      <td>1.728097</td>\n",
              "      <td>4282.038731</td>\n",
              "      <td>16.914458</td>\n",
              "      <td>13.637554</td>\n",
              "      <td>12.079047</td>\n",
              "    </tr>\n",
              "    <tr>\n",
              "      <th>min</th>\n",
              "      <td>NaN</td>\n",
              "      <td>NaN</td>\n",
              "      <td>5.000000</td>\n",
              "      <td>4.000000</td>\n",
              "      <td>1.000000</td>\n",
              "      <td>0.000000</td>\n",
              "      <td>7.000000</td>\n",
              "      <td>2.000000</td>\n",
              "      <td>6.000000</td>\n",
              "    </tr>\n",
              "    <tr>\n",
              "      <th>25%</th>\n",
              "      <td>NaN</td>\n",
              "      <td>NaN</td>\n",
              "      <td>42.000000</td>\n",
              "      <td>344.000000</td>\n",
              "      <td>1.000000</td>\n",
              "      <td>300.000000</td>\n",
              "      <td>18.000000</td>\n",
              "      <td>8.000000</td>\n",
              "      <td>15.000000</td>\n",
              "    </tr>\n",
              "    <tr>\n",
              "      <th>50%</th>\n",
              "      <td>NaN</td>\n",
              "      <td>NaN</td>\n",
              "      <td>51.000000</td>\n",
              "      <td>595.000000</td>\n",
              "      <td>1.000000</td>\n",
              "      <td>700.000000</td>\n",
              "      <td>25.000000</td>\n",
              "      <td>13.000000</td>\n",
              "      <td>20.000000</td>\n",
              "    </tr>\n",
              "    <tr>\n",
              "      <th>75%</th>\n",
              "      <td>NaN</td>\n",
              "      <td>NaN</td>\n",
              "      <td>57.000000</td>\n",
              "      <td>961.000000</td>\n",
              "      <td>3.000000</td>\n",
              "      <td>1900.000000</td>\n",
              "      <td>38.000000</td>\n",
              "      <td>21.000000</td>\n",
              "      <td>30.000000</td>\n",
              "    </tr>\n",
              "    <tr>\n",
              "      <th>max</th>\n",
              "      <td>NaN</td>\n",
              "      <td>NaN</td>\n",
              "      <td>76.000000</td>\n",
              "      <td>3992.000000</td>\n",
              "      <td>20.000000</td>\n",
              "      <td>40425.000000</td>\n",
              "      <td>105.000000</td>\n",
              "      <td>105.000000</td>\n",
              "      <td>118.000000</td>\n",
              "    </tr>\n",
              "  </tbody>\n",
              "</table>\n",
              "</div>"
            ],
            "text/plain": [
              "                              product_id product_category_name  \\\n",
              "count                              32949                 32949   \n",
              "unique                             32949                    74   \n",
              "top     1e9e8ef04dbcff4541ed26657ea517e5       cama_mesa_banho   \n",
              "freq                                   1                  3029   \n",
              "mean                                 NaN                   NaN   \n",
              "std                                  NaN                   NaN   \n",
              "min                                  NaN                   NaN   \n",
              "25%                                  NaN                   NaN   \n",
              "50%                                  NaN                   NaN   \n",
              "75%                                  NaN                   NaN   \n",
              "max                                  NaN                   NaN   \n",
              "\n",
              "        product_name_lenght  product_description_lenght  product_photos_qty  \\\n",
              "count          32949.000000                32949.000000        32949.000000   \n",
              "unique                  NaN                         NaN                 NaN   \n",
              "top                     NaN                         NaN                 NaN   \n",
              "freq                    NaN                         NaN                 NaN   \n",
              "mean              48.523233                  768.230265            2.166985   \n",
              "std               10.156257                  629.676630            1.728097   \n",
              "min                5.000000                    4.000000            1.000000   \n",
              "25%               42.000000                  344.000000            1.000000   \n",
              "50%               51.000000                  595.000000            1.000000   \n",
              "75%               57.000000                  961.000000            3.000000   \n",
              "max               76.000000                 3992.000000           20.000000   \n",
              "\n",
              "        product_weight_g  product_length_cm  product_height_cm  \\\n",
              "count       32949.000000       32949.000000       32949.000000   \n",
              "unique               NaN                NaN                NaN   \n",
              "top                  NaN                NaN                NaN   \n",
              "freq                 NaN                NaN                NaN   \n",
              "mean         2276.472488          30.815078          16.937661   \n",
              "std          4282.038731          16.914458          13.637554   \n",
              "min             0.000000           7.000000           2.000000   \n",
              "25%           300.000000          18.000000           8.000000   \n",
              "50%           700.000000          25.000000          13.000000   \n",
              "75%          1900.000000          38.000000          21.000000   \n",
              "max         40425.000000         105.000000         105.000000   \n",
              "\n",
              "        product_width_cm  \n",
              "count       32949.000000  \n",
              "unique               NaN  \n",
              "top                  NaN  \n",
              "freq                 NaN  \n",
              "mean           23.196728  \n",
              "std            12.079047  \n",
              "min             6.000000  \n",
              "25%            15.000000  \n",
              "50%            20.000000  \n",
              "75%            30.000000  \n",
              "max           118.000000  "
            ]
          },
          "execution_count": 93,
          "metadata": {},
          "output_type": "execute_result"
        }
      ],
      "source": [
        "products_df.describe(include=\"all\")"
      ]
    },
    {
      "cell_type": "markdown",
      "metadata": {},
      "source": [
        "- Produk paling populer adalah cama_mesa_banho dengan frekuensi 3029.\n",
        "- Rata-rata panjang nama produk 48.52 karakter, sedangkan panjang deskripsi produk memiliki rata-rata 768.23 karakter. Ini memberikan gambaran tentang bagaimana penjual mendeskripsikan produk mereka.\n",
        "- Rata-rata jumlah foto produk adalah 2.17, dengan maksimum hingga 20 foto. Ini menunjukkan variasi dalam jumlah foto yang disediakan oleh penjual untuk masing-masing produk."
      ]
    },
    {
      "cell_type": "markdown",
      "metadata": {
        "id": "th_Lzl2Fkj9O"
      },
      "source": [
        "**Insight:**\n",
        "- Produk cama_mesa_banho yang paling populer dengan frekuensi muncul sebanyak 3029 kali dalam pesanan.\n",
        "- Rata-rata panjang nama produk 48.52 karakter.\n",
        "- Rata-rata panjang deskripsi produk 768.23 karakter, menunjukkan variasi dalam cara penjual mendeskripsikan produk mereka.\n",
        "- Rata-rata jumlah foto produk 2.17, dengan maksimum hingga 20 foto, menunjukkan bahwa ada variasi dalam jumlah foto yang disediakan oleh penjual.\n",
        "- Produk dengan ID aca2eb7d00ea1a7b8ebd4e68314663af muncul paling sering dalam pesanan, dengan total 527 kali.\n",
        "- Rata-rata harga produk adalah 120.65, dengan harga minimum 0.85 dan maksimum 6,735, menunjukkan rentang harga yang luas.\n",
        "- Rata-rata biaya pengiriman 19.99, dengan biaya minimum 0.00 dan maksimum 409.68, menunjukkan adanya produk dengan pengiriman gratis.\n",
        "- Kota yang paling sering muncul Sao Paulo, dengan 15,540 entri, menunjukkan kota ini memiliki banyak pelanggan.\n",
        "- Rata-rata geolocation_lat (latitude) -21.17615, menunjukkan bahwa sebagian besar lokasi berada di belahan bumi selatan.\n",
        "- Rata-rata geolocation_lng (longitude) -46.39054, menunjukkan distribusi lokasi yang sebagian besar berada di bagian timur Brasil."
      ]
    },
    {
      "cell_type": "markdown",
      "metadata": {
        "id": "zsyZjqak8DC2"
      },
      "source": [
        "## Visualization & Explanatory Analysis"
      ]
    },
    {
      "cell_type": "markdown",
      "metadata": {
        "id": "HZxOiQ6n8DC2"
      },
      "source": [
        "### Pertanyaan 1: Bagaimana distribusi jumlah pelanggan dan penjual berdasarkan provinsi di Brasil?"
      ]
    },
    {
      "cell_type": "code",
      "execution_count": 87,
      "metadata": {
        "id": "1swJUdAD8DC2"
      },
      "outputs": [
        {
          "name": "stdout",
          "output_type": "stream",
          "text": [
            "   state  customer_count  seller_count\n",
            "0     AC            7688         164.0\n",
            "1     AL           34861           0.0\n",
            "2     AM            5587          27.0\n",
            "3     AP            4912           0.0\n",
            "4     BA          365875        2667.0\n",
            "5     CE           63507         538.0\n",
            "6     DF           93309        1284.0\n",
            "7     ES          316654        3206.0\n",
            "8     GO          133146        2881.0\n",
            "9     MA           53383          99.0\n",
            "10    MG         2878728       62655.0\n",
            "11    MS           61473         416.0\n",
            "12    MT          122395         265.0\n",
            "13    PA           83554           0.0\n",
            "14    PB           27714         362.0\n",
            "15    PE          114588         421.0\n",
            "16    PI           23913           4.0\n",
            "17    PR          626021       46436.0\n",
            "18    RJ         3015690       36387.0\n",
            "19    RN           20595         215.0\n",
            "20    RO           21244         248.0\n",
            "21    RR            2087           0.0\n",
            "22    RS          805370       18014.0\n",
            "23    SC          538638       25729.0\n",
            "24    SE           24584          81.0\n",
            "25    SP         5620430      232988.0\n",
            "26    TO           17509           0.0\n"
          ]
        },
        {
          "data": {
            "image/png": "[encoded data removed]",
            "text/plain": [
              "<Figure size 1000x600 with 1 Axes>"
            ]
          },
          "metadata": {},
          "output_type": "display_data"
        }
      ],
      "source": [
        "customer_geolocation = pd.merge(customers_df, geolocation_df, left_on='customer_zip_code_prefix', right_on='geolocation_zip_code_prefix', how='left')\n",
        "seller_geolocation = pd.merge(seller_df, geolocation_df, left_on='seller_zip_code_prefix', right_on='geolocation_zip_code_prefix', how='left')\n",
        "\n",
        "customer_geolocation = customer_geolocation.dropna(subset=['geolocation_state'])\n",
        "seller_geolocation = seller_geolocation.dropna(subset=['geolocation_state'])\n",
        "\n",
        "customer_counts = customer_geolocation['geolocation_state'].value_counts().reset_index()\n",
        "customer_counts.columns = ['state', 'customer_count']\n",
        "seller_counts = seller_geolocation['geolocation_state'].value_counts().reset_index()\n",
        "seller_counts.columns = ['state', 'seller_count']\n",
        "\n",
        "location_summary = pd.merge(customer_counts, seller_counts, on='state', how='outer').fillna(0)\n",
        "print(location_summary)\n",
        "\n",
        "location_summary.set_index('state').plot(kind='bar', figsize=(10, 6))\n",
        "plt.title('Distribusi Pelanggan dan Penjual Berdasarkan Provinsi')\n",
        "plt.xlabel('Provinsi')\n",
        "plt.ylabel('Jumlah')\n",
        "plt.xticks(rotation=45)\n",
        "plt.legend(['Jumlah Pelanggan', 'Jumlah Penjual'])\n",
        "plt.tight_layout()\n",
        "plt.show()\n"
      ]
    },
    {
      "cell_type": "markdown",
      "metadata": {},
      "source": [
        "- customer_geolocation digunakan untuk menggabungkan data pelanggan dengan geolokasi\n",
        "- seller_geolocation digunakan untuk menggabungkan data penjual dengan geolokasi\n",
        "- customer_counts dan seller_counts menghitung jumlah pelanggan dan seller berdasarkan provinsi\n",
        "- location_summary digunakan untuk menggabungkan hasil"
      ]
    },
    {
      "cell_type": "markdown",
      "metadata": {
        "id": "DgHI7CiU8DC2"
      },
      "source": [
        "### Pertanyaan 2: Bagaimana rata-rata harga produk berdasarkan kategori?"
      ]
    },
    {
      "cell_type": "code",
      "execution_count": 101,
      "metadata": {
        "id": "Go0lCsvO8DC2"
      },
      "outputs": [
        {
          "name": "stdout",
          "output_type": "stream",
          "text": [
            "Kategori produk yang paling banyak tersedia:\n",
            "product_category_name    cama_mesa_banho\n",
            "product_count                      11115\n",
            "Name: 0, dtype: object\n",
            "\n",
            "Rata-rata harga produk berdasarkan kategori:\n",
            "          product_category_name        price\n",
            "16              casa_conforto_2    25.342333\n",
            "42                       flores    33.637576\n",
            "43              fraldas_higiene    40.194615\n",
            "18            cds_dvds_musicais    52.142857\n",
            "3             alimentos_bebidas    54.602446\n",
            "..                          ...          ...\n",
            "46        instrumentos_musicais   281.616000\n",
            "1     agro_industria_e_comercio   342.124858\n",
            "30           eletrodomesticos_2   476.124958\n",
            "65  portateis_casa_forno_e_cafe   624.285658\n",
            "62                          pcs  1098.340542\n",
            "\n",
            "[74 rows x 2 columns]\n"
          ]
        },
        {
          "data": {
            "image/png": "[encoded data removed]",
            "text/plain": [
              "<Figure size 1000x1200 with 1 Axes>"
            ]
          },
          "metadata": {},
          "output_type": "display_data"
        }
      ],
      "source": [
        "order_products = pd.merge(order_items_df, products_df, on='product_id', how='left')\n",
        "\n",
        "category_availability = order_products['product_category_name'].value_counts().reset_index()\n",
        "category_availability.columns = ['product_category_name', 'product_count']\n",
        "most_available_category = category_availability.loc[category_availability['product_count'].idxmax()]\n",
        "\n",
        "avg_price_per_category = order_products.groupby('product_category_name')['price'].mean().reset_index()\n",
        "avg_price_per_category = avg_price_per_category.sort_values(by='price', ascending=True)\n",
        "\n",
        "print(\"Kategori produk yang paling banyak tersedia:\")\n",
        "print(most_available_category)\n",
        "\n",
        "print(\"\\nRata-rata harga produk berdasarkan kategori:\")\n",
        "print(avg_price_per_category)\n",
        "\n",
        "plt.figure(figsize=(10, 12))\n",
        "plt.barh(avg_price_per_category['product_category_name'], avg_price_per_category['price'], color='#3498db')\n",
        "plt.title('Rata-rata Harga Produk Berdasarkan Kategori')\n",
        "plt.xlabel('Rata-rata Harga')\n",
        "plt.ylabel('Kategori Produk')\n",
        "plt.tight_layout()\n",
        "plt.show()"
      ]
    },
    {
      "cell_type": "markdown",
      "metadata": {},
      "source": [
        "- order_products digunakan untuk menggabungkan order items dengan produk"
      ]
    },
    {
      "cell_type": "markdown",
      "metadata": {
        "id": "_0-36BDLklRg"
      },
      "source": [
        "**Insight:**\n",
        "- Provinsi dengan distribusi penjual dan pelanggan terbesar adalah Sao Paulo\n",
        "- Rasio pelanggan dengan penjual beda jauh dengan pelanggan yang lebih besar\n",
        "- Distribusi penjual hanya terletak di 8 provinsi saja\n",
        "- Kategori dengan rata-rata harga produk paling mahal adalah pcs\n",
        "- Kategori yang memiliki rata-rata harga paling kecil adalah casa_conforto_2"
      ]
    },
    {
      "cell_type": "markdown",
      "metadata": {
        "id": "_WeHlCeX8DC2"
      },
      "source": [
        "## Conclusion"
      ]
    },
    {
      "cell_type": "markdown",
      "metadata": {
        "id": "ZTcyR48Y8DC2"
      },
      "source": [
        "### Conclusion pertanyaan 1\n",
        "- Provinsi dengan distribusi penjual dan pelanggan terbesar adalah Sao Paulo\n",
        "- Rasio pelanggan dengan penjual beda jauh dengan pelanggan yang lebih besar\n",
        "- Distribusi penjual hanya terletak di 8 provinsi saja\n",
        "\n",
        "### Conclusion pertanyaan 2\n",
        "- Rata-rata harga produk berdasarkan kategori hampir semuanya di bawah 400\n",
        "- Kategori dengan rata-rata harga produk paling mahal adalah pcs\n",
        "- Kategori yang memiliki rata-rata harga paling kecil adalah casa_conforto_2"
      ]
    }
  ],
  "metadata": {
    "colab": {
      "provenance": []
    },
    "kernelspec": {
      "display_name": "Python 3",
      "language": "python",
      "name": "python3"
    },
    "language_info": {
      "codemirror_mode": {
        "name": "ipython",
        "version": 3
      },
      "file_extension": ".py",
      "mimetype": "text/x-python",
      "name": "python",
      "nbconvert_exporter": "python",
      "pygments_lexer": "ipython3",
      "version": "3.12.0"
    },
    "orig_nbformat": 4,
    "vscode": {
      "interpreter": {
        "hash": "972b3bf27e332e87b5379f2791f6ef9dfc79c71018c370b0d7423235e20fe4d7"
      }
    }
  },
  "nbformat": 4,
  "nbformat_minor": 0
}
